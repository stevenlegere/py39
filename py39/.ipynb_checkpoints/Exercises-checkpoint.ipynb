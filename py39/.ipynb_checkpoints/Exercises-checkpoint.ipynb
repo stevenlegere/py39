{
 "cells": [
  {
   "cell_type": "code",
   "execution_count": 3,
   "id": "75b16140-0285-4e5a-be93-cea908315208",
   "metadata": {},
   "outputs": [
    {
     "name": "stdout",
     "output_type": "stream",
     "text": [
      "True\n"
     ]
    }
   ],
   "source": [
    "#Given two floats `a` and `b`, and some tolerance `tol`, write an expression that will test whether `a` and `b` are within `tol` of each other.\n",
    "\n",
    "\n",
    "def are_within_tolerance(a: float, b: float, tol: float) -> bool:\n",
    "    return abs(a - b) <= tol\n",
    "\n",
    "\n",
    "a = 5.0\n",
    "b = 5.1\n",
    "tol = 0.2\n",
    "\n",
    "result = are_within_tolerance(a, b, tol)\n",
    "print(result)"
   ]
  },
  {
   "cell_type": "code",
   "execution_count": 4,
   "id": "5622c40f-0a86-4826-b55a-b9bfa637a8eb",
   "metadata": {},
   "outputs": [
    {
     "name": "stdout",
     "output_type": "stream",
     "text": [
      "hours = 2, minutes = 10, seconds = 35\n"
     ]
    }
   ],
   "source": [
    "#Assume you have some variable `elapsed` that contains elapsed time in seconds.\n",
    "\n",
    "#Create three new variables: `hours`, `minutes` and `seconds`, that represent the number of hours, minutes and seconds represented by `elapsed`.\n",
    "\n",
    "#For example, if `elapsed = 7835`, then `hours = 2`, `minutes = 10` and `seconds = 35`\n",
    "\n",
    "elapsed = 7835\n",
    "\n",
    "hours = elapsed // 3600\n",
    "minutes = (elapsed % 3600) // 60\n",
    "seconds = elapsed % 60\n",
    "\n",
    "print(f\"hours = {hours}, minutes = {minutes}, seconds = {seconds}\")\n"
   ]
  },
  {
   "cell_type": "code",
   "execution_count": null,
   "id": "6b3c84fb-23ec-4d4d-9b00-364b90687a3c",
   "metadata": {},
   "outputs": [],
   "source": []
  }
 ],
 "metadata": {
  "kernelspec": {
   "display_name": "Python 3 (ipykernel)",
   "language": "python",
   "name": "python3"
  },
  "language_info": {
   "codemirror_mode": {
    "name": "ipython",
    "version": 3
   },
   "file_extension": ".py",
   "mimetype": "text/x-python",
   "name": "python",
   "nbconvert_exporter": "python",
   "pygments_lexer": "ipython3",
   "version": "3.9.0"
  }
 },
 "nbformat": 4,
 "nbformat_minor": 5
}
