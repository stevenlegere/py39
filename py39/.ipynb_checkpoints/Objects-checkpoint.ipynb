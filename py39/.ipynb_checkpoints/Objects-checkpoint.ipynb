{
 "cells": [
  {
   "cell_type": "code",
   "execution_count": 1,
   "id": "70625aeb-8fe6-4da5-a7b1-5a1b3c745cfb",
   "metadata": {},
   "outputs": [],
   "source": [
    "class Account:\n",
    "    def __init__(self, account_number, account_type, initial_balance):\n",
    "        self.account_number = account_number\n",
    "        self.account_type = account_type\n",
    "        self.balance = initial_balance\n",
    "        \n",
    "    def deposit(self, amount):\n",
    "        # should also check that amount is a numerical value!\n",
    "        if amount > 0:\n",
    "            self.balance = self.balance + amount\n",
    "            print(f'Deposited {amount}')\n",
    "            print(f'New balance is: {self.balance}')\n",
    "        else:\n",
    "            print(f'{amount} is an invalid amount.')\n",
    "            \n",
    "    def withdraw(self, amount):\n",
    "        # should also check that amount is a numerical value!\n",
    "        if amount > 0 and amount <= self.balance:\n",
    "            self.balance = self.balance - amount\n",
    "            print(f'Withdrawal: {amount}')\n",
    "            print(f'New Balance: {self.balance}')\n",
    "        else:\n",
    "            if amount < 0:\n",
    "                print(f'{amount} is an invalid amount')\n",
    "            else:\n",
    "                print('Insufficient funds.')\n",
    "                print(f'Current balance is {self.balance}')"
   ]
  },
  {
   "cell_type": "code",
   "execution_count": 9,
   "id": "6247056d-eddd-4962-ab03-202de23a4d68",
   "metadata": {},
   "outputs": [],
   "source": [
    "my_account = Account('123-456', 'savings', 1_000.00)"
   ]
  },
  {
   "cell_type": "code",
   "execution_count": 10,
   "id": "bb9eff62-b707-4ba5-a815-8832e2a708c9",
   "metadata": {},
   "outputs": [
    {
     "data": {
      "text/plain": [
       "'123-456'"
      ]
     },
     "execution_count": 10,
     "metadata": {},
     "output_type": "execute_result"
    }
   ],
   "source": [
    "my_account.account_number"
   ]
  },
  {
   "cell_type": "code",
   "execution_count": 11,
   "id": "188a357b-6f87-4915-9248-013095311f9a",
   "metadata": {},
   "outputs": [
    {
     "data": {
      "text/plain": [
       "'savings'"
      ]
     },
     "execution_count": 11,
     "metadata": {},
     "output_type": "execute_result"
    }
   ],
   "source": [
    "my_account.account_type"
   ]
  },
  {
   "cell_type": "code",
   "execution_count": 12,
   "id": "abb3bdf0-7f73-4361-a0a9-9868a411ddf5",
   "metadata": {},
   "outputs": [
    {
     "data": {
      "text/plain": [
       "1000.0"
      ]
     },
     "execution_count": 12,
     "metadata": {},
     "output_type": "execute_result"
    }
   ],
   "source": [
    "my_account.balance"
   ]
  },
  {
   "cell_type": "code",
   "execution_count": 13,
   "id": "f6101919-0ad7-4026-a43e-71c5c0c3ab23",
   "metadata": {},
   "outputs": [
    {
     "name": "stdout",
     "output_type": "stream",
     "text": [
      "Deposited 100\n",
      "New balance is: 1100.0\n"
     ]
    }
   ],
   "source": [
    "my_account.deposit(100)"
   ]
  },
  {
   "cell_type": "code",
   "execution_count": 14,
   "id": "b2608c6d-1d0b-4bfe-8966-f51acbe0d8eb",
   "metadata": {},
   "outputs": [
    {
     "name": "stdout",
     "output_type": "stream",
     "text": [
      "Withdrawal: 600\n",
      "New Balance: 500.0\n"
     ]
    }
   ],
   "source": [
    "my_account.withdraw(600)"
   ]
  },
  {
   "cell_type": "code",
   "execution_count": 15,
   "id": "2a7b9aab-c686-41b0-81d1-eef5912b0847",
   "metadata": {},
   "outputs": [
    {
     "name": "stdout",
     "output_type": "stream",
     "text": [
      "Insufficient funds.\n",
      "Current balance is 500.0\n"
     ]
    }
   ],
   "source": [
    "my_account.withdraw(10_000)"
   ]
  },
  {
   "cell_type": "code",
   "execution_count": null,
   "id": "9d142519-e9a5-470e-a49a-a35213f26959",
   "metadata": {},
   "outputs": [],
   "source": []
  }
 ],
 "metadata": {
  "kernelspec": {
   "display_name": "Python 3 (ipykernel)",
   "language": "python",
   "name": "python3"
  },
  "language_info": {
   "codemirror_mode": {
    "name": "ipython",
    "version": 3
   },
   "file_extension": ".py",
   "mimetype": "text/x-python",
   "name": "python",
   "nbconvert_exporter": "python",
   "pygments_lexer": "ipython3",
   "version": "3.9.0"
  }
 },
 "nbformat": 4,
 "nbformat_minor": 5
}
