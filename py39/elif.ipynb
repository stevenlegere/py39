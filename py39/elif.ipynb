{
 "cells": [
  {
   "cell_type": "code",
   "execution_count": 1,
   "id": "09edeefa-10c0-4b8e-a0d8-e19e6869d2e9",
   "metadata": {},
   "outputs": [
    {
     "name": "stdout",
     "output_type": "stream",
     "text": [
      "Passed\n"
     ]
    }
   ],
   "source": [
    "grade = 72\n",
    "\n",
    "if grade >= 90:\n",
    "    print('Passed with distinction')\n",
    "else:\n",
    "    if grade >=70:\n",
    "        print('Passed')\n",
    "    else:\n",
    "        print('Failed')\n",
    "        "
   ]
  },
  {
   "cell_type": "code",
   "execution_count": 2,
   "id": "e60698cf-2ee7-4c27-ba6b-227cd1fa7696",
   "metadata": {},
   "outputs": [
    {
     "name": "stdout",
     "output_type": "stream",
     "text": [
      "Passed\n"
     ]
    }
   ],
   "source": [
    "grade = 72\n",
    "\n",
    "if grade >= 90:\n",
    "    print('Passed with distinction')\n",
    "elif grade >= 70:\n",
    "    print('Passed')\n",
    "else:\n",
    "    print('Failed')"
   ]
  },
  {
   "cell_type": "code",
   "execution_count": 3,
   "id": "a2a72e9f-e81f-4cf5-a776-c0ef59c83751",
   "metadata": {},
   "outputs": [
    {
     "name": "stdout",
     "output_type": "stream",
     "text": [
      "insufficient funds\n"
     ]
    }
   ],
   "source": [
    "account_enabled = True\n",
    "balance = 1000\n",
    "withdraw = 100_000\n",
    "\n",
    "if account_enabled and withdraw <= balance:\n",
    "    print('withdrawal authorized')\n",
    "else:\n",
    "    # cannot withdraw for some reason\n",
    "    if not account_enabled:\n",
    "        print('account disabled')\n",
    "    else:\n",
    "        # must be insufficient funds\n",
    "        print('insufficient funds')"
   ]
  },
  {
   "cell_type": "code",
   "execution_count": 5,
   "id": "798e26a4-7d0f-42a5-ac46-d8e679b51f6e",
   "metadata": {},
   "outputs": [
    {
     "name": "stdout",
     "output_type": "stream",
     "text": [
      "Insufficient funds\n"
     ]
    }
   ],
   "source": [
    "account_enabled = True\n",
    "balance = 1000\n",
    "withdraw = 100_000\n",
    "\n",
    "if not account_enabled:\n",
    "    print('account disabled')\n",
    "else:\n",
    "    if withdraw > balance:\n",
    "        print('Insufficient funds')\n",
    "    else:\n",
    "        print('withdraw authorised')"
   ]
  },
  {
   "cell_type": "code",
   "execution_count": 8,
   "id": "7ceba844-86a9-4c98-9168-644474dea8ec",
   "metadata": {},
   "outputs": [
    {
     "name": "stdout",
     "output_type": "stream",
     "text": [
      "account disabled\n"
     ]
    }
   ],
   "source": [
    "account_enabled = False\n",
    "balance = 1000\n",
    "withdraw = 100\n",
    "\n",
    "if not account_enabled:\n",
    "    print('account disabled')\n",
    "elif withdraw > balance:\n",
    "    print('Insufficient funds')\n",
    "else:\n",
    "    print('withdraw authorised')"
   ]
  },
  {
   "cell_type": "code",
   "execution_count": null,
   "id": "b2560519-63e4-4138-a813-8a903ed5761c",
   "metadata": {},
   "outputs": [],
   "source": []
  }
 ],
 "metadata": {
  "kernelspec": {
   "display_name": "Python 3 (ipykernel)",
   "language": "python",
   "name": "python3"
  },
  "language_info": {
   "codemirror_mode": {
    "name": "ipython",
    "version": 3
   },
   "file_extension": ".py",
   "mimetype": "text/x-python",
   "name": "python",
   "nbconvert_exporter": "python",
   "pygments_lexer": "ipython3",
   "version": "3.9.0"
  }
 },
 "nbformat": 4,
 "nbformat_minor": 5
}
