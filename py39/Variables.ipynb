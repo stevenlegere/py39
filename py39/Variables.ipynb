{
 "cells": [
  {
   "cell_type": "code",
   "execution_count": 1,
   "id": "a96c3ede-0eb3-434c-a4f2-f45bfce8f278",
   "metadata": {},
   "outputs": [],
   "source": [
    "a = 100"
   ]
  },
  {
   "cell_type": "code",
   "execution_count": 2,
   "id": "1708e5ac-ce38-44bd-8bd9-a8c7af2d0638",
   "metadata": {},
   "outputs": [
    {
     "data": {
      "text/plain": [
       "100"
      ]
     },
     "execution_count": 2,
     "metadata": {},
     "output_type": "execute_result"
    }
   ],
   "source": [
    "a"
   ]
  },
  {
   "cell_type": "code",
   "execution_count": 3,
   "id": "18d6ede3-4e72-44d1-956c-d913a302ff47",
   "metadata": {},
   "outputs": [
    {
     "data": {
      "text/plain": [
       "111"
      ]
     },
     "execution_count": 3,
     "metadata": {},
     "output_type": "execute_result"
    }
   ],
   "source": [
    "a + 11"
   ]
  },
  {
   "cell_type": "code",
   "execution_count": 4,
   "id": "0bc41567-a93a-4c70-9f5d-9af1657515ba",
   "metadata": {},
   "outputs": [],
   "source": [
    "b = a + 11"
   ]
  },
  {
   "cell_type": "code",
   "execution_count": 5,
   "id": "66c3a4df-618d-4a2e-ba98-575b3c711418",
   "metadata": {},
   "outputs": [
    {
     "data": {
      "text/plain": [
       "111"
      ]
     },
     "execution_count": 5,
     "metadata": {},
     "output_type": "execute_result"
    }
   ],
   "source": [
    "b"
   ]
  },
  {
   "cell_type": "code",
   "execution_count": 6,
   "id": "a8fd07b0-4c6a-44f8-b383-71349187a188",
   "metadata": {},
   "outputs": [],
   "source": [
    "a = 3.14"
   ]
  },
  {
   "cell_type": "code",
   "execution_count": 7,
   "id": "bf0fdd9e-926a-488a-9c7a-94e37a0bba84",
   "metadata": {},
   "outputs": [
    {
     "data": {
      "text/plain": [
       "3.14"
      ]
     },
     "execution_count": 7,
     "metadata": {},
     "output_type": "execute_result"
    }
   ],
   "source": [
    "a"
   ]
  },
  {
   "cell_type": "code",
   "execution_count": null,
   "id": "9e89eb8f-5b48-4f6f-8ddd-ef98b1dd17ce",
   "metadata": {},
   "outputs": [],
   "source": []
  }
 ],
 "metadata": {
  "kernelspec": {
   "display_name": "Python 3 (ipykernel)",
   "language": "python",
   "name": "python3"
  },
  "language_info": {
   "codemirror_mode": {
    "name": "ipython",
    "version": 3
   },
   "file_extension": ".py",
   "mimetype": "text/x-python",
   "name": "python",
   "nbconvert_exporter": "python",
   "pygments_lexer": "ipython3",
   "version": "3.9.0"
  }
 },
 "nbformat": 4,
 "nbformat_minor": 5
}
