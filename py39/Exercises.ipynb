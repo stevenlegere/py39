{
 "cells": [
  {
   "cell_type": "code",
   "execution_count": 3,
   "id": "75b16140-0285-4e5a-be93-cea908315208",
   "metadata": {},
   "outputs": [
    {
     "name": "stdout",
     "output_type": "stream",
     "text": [
      "True\n"
     ]
    }
   ],
   "source": [
    "#Given two floats `a` and `b`, and some tolerance `tol`, write an expression that will test whether `a` and `b` are within `tol` of each other.\n",
    "\n",
    "\n",
    "def are_within_tolerance(a: float, b: float, tol: float) -> bool:\n",
    "    return abs(a - b) <= tol\n",
    "\n",
    "\n",
    "a = 5.0\n",
    "b = 5.1\n",
    "tol = 0.2\n",
    "\n",
    "result = are_within_tolerance(a, b, tol)\n",
    "print(result)"
   ]
  },
  {
   "cell_type": "code",
   "execution_count": 8,
   "id": "f1dcdd7f-1d83-45f1-82b8-9b5e31d44126",
   "metadata": {},
   "outputs": [
    {
     "data": {
      "text/plain": [
       "True"
      ]
     },
     "execution_count": 8,
     "metadata": {},
     "output_type": "execute_result"
    }
   ],
   "source": [
    "#Solution\n",
    "a = 0.1 + 0.1 + 0.1\n",
    "b = 0.3\n",
    "tol = 0.0001\n",
    "abs(a - b) < tol"
   ]
  },
  {
   "cell_type": "code",
   "execution_count": null,
   "id": "fc9bf943-4936-40e3-9b80-2c13fc50e97d",
   "metadata": {},
   "outputs": [],
   "source": []
  },
  {
   "cell_type": "code",
   "execution_count": 4,
   "id": "5622c40f-0a86-4826-b55a-b9bfa637a8eb",
   "metadata": {},
   "outputs": [
    {
     "name": "stdout",
     "output_type": "stream",
     "text": [
      "hours = 2, minutes = 10, seconds = 35\n"
     ]
    }
   ],
   "source": [
    "#Assume you have some variable `elapsed` that contains elapsed time in seconds.\n",
    "\n",
    "#Create three new variables: `hours`, `minutes` and `seconds`, that represent the number of hours, minutes and seconds represented by `elapsed`.\n",
    "\n",
    "#For example, if `elapsed = 7835`, then `hours = 2`, `minutes = 10` and `seconds = 35`\n",
    "\n",
    "elapsed = 7835\n",
    "\n",
    "hours = elapsed // 3600\n",
    "minutes = (elapsed % 3600) // 60\n",
    "seconds = elapsed % 60\n",
    "\n",
    "print(f\"hours = {hours}, minutes = {minutes}, seconds = {seconds}\")\n"
   ]
  },
  {
   "cell_type": "code",
   "execution_count": 14,
   "id": "6b3c84fb-23ec-4d4d-9b00-364b90687a3c",
   "metadata": {},
   "outputs": [
    {
     "name": "stdout",
     "output_type": "stream",
     "text": [
      "2 10 35\n"
     ]
    }
   ],
   "source": [
    "#Solution\n",
    "elapsed = 7835\n",
    "\n",
    "hours = elapsed // (60 * 60)\n",
    "#print('hours = ', hours)\n",
    "\n",
    "remaining_seconds = elapsed % (60 * 60)\n",
    "#print('remaining_seconds = ', remaining_seconds)\n",
    "\n",
    "minutes = remaining_seconds // 60\n",
    "#print('minutes = ', minutes)\n",
    "\n",
    "seconds = remaining_seconds % 60\n",
    "#print('seconds = ', seconds)\n",
    "\n",
    "print(hours, minutes, seconds)"
   ]
  },
  {
   "cell_type": "code",
   "execution_count": 15,
   "id": "a395a6b1-71ee-4d28-8fef-897153266757",
   "metadata": {},
   "outputs": [
    {
     "name": "stdout",
     "output_type": "stream",
     "text": [
      "2 10 35\n"
     ]
    }
   ],
   "source": [
    "#If we wanted to we could get rid of the temporary variable `remaining_seconds`.\n",
    "\n",
    "#(I call it temporary because once we're done with our calculation we don't need it anymore - our result is stored in the variables `hours`, `minutes` and `seconds`)\n",
    "\n",
    "elapsed = 7835\n",
    "hours = elapsed // (60 * 60)\n",
    "minutes = elapsed % (60 * 60) // 60\n",
    "seconds = elapsed % (60 * 60) % 60\n",
    "\n",
    "print(hours, minutes, seconds)"
   ]
  },
  {
   "cell_type": "code",
   "execution_count": null,
   "id": "d96737d3-61e5-45d4-b6e6-dba12758913b",
   "metadata": {},
   "outputs": [],
   "source": []
  }
 ],
 "metadata": {
  "kernelspec": {
   "display_name": "Python 3 (ipykernel)",
   "language": "python",
   "name": "python3"
  },
  "language_info": {
   "codemirror_mode": {
    "name": "ipython",
    "version": 3
   },
   "file_extension": ".py",
   "mimetype": "text/x-python",
   "name": "python",
   "nbconvert_exporter": "python",
   "pygments_lexer": "ipython3",
   "version": "3.9.0"
  }
 },
 "nbformat": 4,
 "nbformat_minor": 5
}
