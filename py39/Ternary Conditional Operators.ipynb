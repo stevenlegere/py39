{
 "cells": [
  {
   "cell_type": "code",
   "execution_count": 1,
   "id": "63cceef0-871b-4e0a-bc2e-839fde67cf96",
   "metadata": {},
   "outputs": [
    {
     "name": "stdout",
     "output_type": "stream",
     "text": [
      "50\n"
     ]
    }
   ],
   "source": [
    "ask_price = 100\n",
    "\n",
    "if ask_price > 50:\n",
    "    volume = 50\n",
    "else:\n",
    "    volume = 80\n",
    "\n",
    "print(volume)"
   ]
  },
  {
   "cell_type": "code",
   "execution_count": 6,
   "id": "252e81c6-812f-4740-a0d0-a81e0b0e3aad",
   "metadata": {},
   "outputs": [
    {
     "name": "stdout",
     "output_type": "stream",
     "text": [
      "50\n"
     ]
    }
   ],
   "source": [
    "#Using ternary operator\n",
    "ask_price = 100\n",
    "\n",
    "volume = 50 if ask_price > 50 else 80\n",
    "\n",
    "print(volume)"
   ]
  },
  {
   "cell_type": "code",
   "execution_count": 3,
   "id": "e6d71004-88dd-44d8-b526-7d11d12a123f",
   "metadata": {},
   "outputs": [],
   "source": [
    "a = 10\n",
    "b = 20\n",
    "\n",
    "distance = a - b if a >= b else b - a"
   ]
  },
  {
   "cell_type": "code",
   "execution_count": 4,
   "id": "eab74809-6022-455c-9aa7-cf6e9c42c767",
   "metadata": {},
   "outputs": [
    {
     "data": {
      "text/plain": [
       "10"
      ]
     },
     "execution_count": 4,
     "metadata": {},
     "output_type": "execute_result"
    }
   ],
   "source": [
    "distance"
   ]
  },
  {
   "cell_type": "code",
   "execution_count": null,
   "id": "9cf5bb6c-71f9-40a6-ad4e-1daed224e85f",
   "metadata": {},
   "outputs": [],
   "source": [
    "Suppose we are looping (iterating) through some data file and for every row we process we have the following data:\n",
    "\n",
    "- `current_value` - the value of some column in our current row. A value of `-999` indicates the value is missing.\n",
    "- `running_total` - running total of that column's values so far, possibly zero\n",
    "- `running_count` - running count of number of rows (not including current one)"
   ]
  },
  {
   "cell_type": "code",
   "execution_count": 14,
   "id": "7cf0f253-2d90-435c-bbf3-0713023551be",
   "metadata": {},
   "outputs": [
    {
     "name": "stdout",
     "output_type": "stream",
     "text": [
      "15100\n"
     ]
    }
   ],
   "source": [
    "current_value = 100\n",
    "running_total = 15000\n",
    "running_count = 125\n",
    "\n",
    "if current_value == - 999:\n",
    "    clean_value = 0\n",
    "else:\n",
    "    clean_value = current_value\n",
    "\n",
    "running_total = running_total + clean_value\n",
    "\n",
    "print(running_total)"
   ]
  },
  {
   "cell_type": "code",
   "execution_count": 13,
   "id": "c3930b9e-9c0c-4702-b300-60eb03bd81e6",
   "metadata": {},
   "outputs": [
    {
     "name": "stdout",
     "output_type": "stream",
     "text": [
      "15100\n"
     ]
    }
   ],
   "source": [
    "current_value = 100\n",
    "running_total = 15000\n",
    "running_count = 125\n",
    "\n",
    "\n",
    "clean_value = 0 if current_value == -999 else current_value\n",
    "\n",
    "running_total = running_total + clean_value\n",
    "\n",
    "print(running_total)"
   ]
  },
  {
   "cell_type": "code",
   "execution_count": null,
   "id": "0d1f269c-9123-491e-af44-1ef3d8831f38",
   "metadata": {},
   "outputs": [],
   "source": []
  }
 ],
 "metadata": {
  "kernelspec": {
   "display_name": "Python 3 (ipykernel)",
   "language": "python",
   "name": "python3"
  },
  "language_info": {
   "codemirror_mode": {
    "name": "ipython",
    "version": 3
   },
   "file_extension": ".py",
   "mimetype": "text/x-python",
   "name": "python",
   "nbconvert_exporter": "python",
   "pygments_lexer": "ipython3",
   "version": "3.9.0"
  }
 },
 "nbformat": 4,
 "nbformat_minor": 5
}
