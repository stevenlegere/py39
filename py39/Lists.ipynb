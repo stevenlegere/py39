{
 "cells": [
  {
   "cell_type": "code",
   "execution_count": 2,
   "id": "e803e7cf-dce5-4217-9d44-2433e9e966c3",
   "metadata": {},
   "outputs": [],
   "source": [
    "l = [10, 20, 30 ,40 ,50]"
   ]
  },
  {
   "cell_type": "code",
   "execution_count": 3,
   "id": "dae7fd07-fb67-4d79-aba3-c447efdc942b",
   "metadata": {},
   "outputs": [
    {
     "data": {
      "text/plain": [
       "10"
      ]
     },
     "execution_count": 3,
     "metadata": {},
     "output_type": "execute_result"
    }
   ],
   "source": [
    "l[0]"
   ]
  },
  {
   "cell_type": "code",
   "execution_count": 4,
   "id": "ec4312a7-6e6d-45b1-81cd-c824fe408024",
   "metadata": {},
   "outputs": [
    {
     "data": {
      "text/plain": [
       "30"
      ]
     },
     "execution_count": 4,
     "metadata": {},
     "output_type": "execute_result"
    }
   ],
   "source": [
    "l[2]"
   ]
  },
  {
   "cell_type": "code",
   "execution_count": 6,
   "id": "92ba2a69-6f09-4277-b306-c7b99e3db0bf",
   "metadata": {},
   "outputs": [
    {
     "data": {
      "text/plain": [
       "5"
      ]
     },
     "execution_count": 6,
     "metadata": {},
     "output_type": "execute_result"
    }
   ],
   "source": [
    "len(l)"
   ]
  },
  {
   "cell_type": "code",
   "execution_count": 7,
   "id": "281c2613-3a5d-487e-9150-a2be2d6f8ff1",
   "metadata": {},
   "outputs": [],
   "source": [
    "l = []"
   ]
  },
  {
   "cell_type": "code",
   "execution_count": 8,
   "id": "f884581a-eedf-4d8e-a592-f916b10967c0",
   "metadata": {},
   "outputs": [
    {
     "name": "stdout",
     "output_type": "stream",
     "text": [
      "30\n"
     ]
    }
   ],
   "source": [
    "l = [10, 20, 30, 40 ,50]\n",
    "print(l[2])"
   ]
  },
  {
   "cell_type": "code",
   "execution_count": 9,
   "id": "4764853b-8f0e-49a1-9b6b-f43a86b23397",
   "metadata": {},
   "outputs": [],
   "source": [
    "l[2] = True"
   ]
  },
  {
   "cell_type": "code",
   "execution_count": 10,
   "id": "8e26a401-3464-4951-87c1-c39753ce621d",
   "metadata": {},
   "outputs": [
    {
     "name": "stdout",
     "output_type": "stream",
     "text": [
      "True\n"
     ]
    }
   ],
   "source": [
    "print(l[2])"
   ]
  },
  {
   "cell_type": "code",
   "execution_count": null,
   "id": "a9fe6551-047e-4ddf-838a-009c85928ac4",
   "metadata": {},
   "outputs": [],
   "source": []
  }
 ],
 "metadata": {
  "kernelspec": {
   "display_name": "Python 3 (ipykernel)",
   "language": "python",
   "name": "python3"
  },
  "language_info": {
   "codemirror_mode": {
    "name": "ipython",
    "version": 3
   },
   "file_extension": ".py",
   "mimetype": "text/x-python",
   "name": "python",
   "nbconvert_exporter": "python",
   "pygments_lexer": "ipython3",
   "version": "3.9.0"
  }
 },
 "nbformat": 4,
 "nbformat_minor": 5
}
