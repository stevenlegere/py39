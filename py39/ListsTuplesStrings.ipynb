{
 "cells": [
  {
   "cell_type": "code",
   "execution_count": 2,
   "id": "e803e7cf-dce5-4217-9d44-2433e9e966c3",
   "metadata": {},
   "outputs": [],
   "source": [
    "l = [10, 20, 30 ,40 ,50]"
   ]
  },
  {
   "cell_type": "code",
   "execution_count": 3,
   "id": "dae7fd07-fb67-4d79-aba3-c447efdc942b",
   "metadata": {},
   "outputs": [
    {
     "data": {
      "text/plain": [
       "10"
      ]
     },
     "execution_count": 3,
     "metadata": {},
     "output_type": "execute_result"
    }
   ],
   "source": [
    "l[0]"
   ]
  },
  {
   "cell_type": "code",
   "execution_count": 4,
   "id": "ec4312a7-6e6d-45b1-81cd-c824fe408024",
   "metadata": {},
   "outputs": [
    {
     "data": {
      "text/plain": [
       "30"
      ]
     },
     "execution_count": 4,
     "metadata": {},
     "output_type": "execute_result"
    }
   ],
   "source": [
    "l[2]"
   ]
  },
  {
   "cell_type": "code",
   "execution_count": 6,
   "id": "92ba2a69-6f09-4277-b306-c7b99e3db0bf",
   "metadata": {},
   "outputs": [
    {
     "data": {
      "text/plain": [
       "5"
      ]
     },
     "execution_count": 6,
     "metadata": {},
     "output_type": "execute_result"
    }
   ],
   "source": [
    "len(l)"
   ]
  },
  {
   "cell_type": "code",
   "execution_count": 7,
   "id": "281c2613-3a5d-487e-9150-a2be2d6f8ff1",
   "metadata": {},
   "outputs": [],
   "source": [
    "l = []"
   ]
  },
  {
   "cell_type": "code",
   "execution_count": 8,
   "id": "f884581a-eedf-4d8e-a592-f916b10967c0",
   "metadata": {},
   "outputs": [
    {
     "name": "stdout",
     "output_type": "stream",
     "text": [
      "30\n"
     ]
    }
   ],
   "source": [
    "l = [10, 20, 30, 40 ,50]\n",
    "print(l[2])"
   ]
  },
  {
   "cell_type": "code",
   "execution_count": 9,
   "id": "4764853b-8f0e-49a1-9b6b-f43a86b23397",
   "metadata": {},
   "outputs": [],
   "source": [
    "l[2] = True"
   ]
  },
  {
   "cell_type": "code",
   "execution_count": 10,
   "id": "8e26a401-3464-4951-87c1-c39753ce621d",
   "metadata": {},
   "outputs": [
    {
     "name": "stdout",
     "output_type": "stream",
     "text": [
      "True\n"
     ]
    }
   ],
   "source": [
    "print(l[2])"
   ]
  },
  {
   "cell_type": "code",
   "execution_count": 11,
   "id": "a9fe6551-047e-4ddf-838a-009c85928ac4",
   "metadata": {},
   "outputs": [],
   "source": [
    "l = [10, 20, 30, 40, 50]"
   ]
  },
  {
   "cell_type": "code",
   "execution_count": 12,
   "id": "8b3fe073-630c-4745-8446-535b58a88a49",
   "metadata": {},
   "outputs": [
    {
     "data": {
      "text/plain": [
       "[10, 20, 30, 40, 50]"
      ]
     },
     "execution_count": 12,
     "metadata": {},
     "output_type": "execute_result"
    }
   ],
   "source": [
    "l"
   ]
  },
  {
   "cell_type": "code",
   "execution_count": 13,
   "id": "a90ae82f-ca9e-4c85-a962-c488597a70f8",
   "metadata": {},
   "outputs": [
    {
     "data": {
      "text/plain": [
       "list"
      ]
     },
     "execution_count": 13,
     "metadata": {},
     "output_type": "execute_result"
    }
   ],
   "source": [
    "type(l)"
   ]
  },
  {
   "cell_type": "code",
   "execution_count": 14,
   "id": "ab5f15ef-7656-4523-8037-2fec41462036",
   "metadata": {},
   "outputs": [
    {
     "data": {
      "text/plain": [
       "10"
      ]
     },
     "execution_count": 14,
     "metadata": {},
     "output_type": "execute_result"
    }
   ],
   "source": []
  },
  {
   "cell_type": "code",
   "execution_count": 15,
   "id": "b46a7595-ac0e-4665-a584-3a23c64a4d91",
   "metadata": {},
   "outputs": [
    {
     "data": {
      "text/plain": [
       "50"
      ]
     },
     "execution_count": 15,
     "metadata": {},
     "output_type": "execute_result"
    }
   ],
   "source": [
    "l[-1]"
   ]
  },
  {
   "cell_type": "code",
   "execution_count": 16,
   "id": "7cf7b7f4-86ee-471f-8c9f-96e488cd88ea",
   "metadata": {},
   "outputs": [
    {
     "data": {
      "text/plain": [
       "40"
      ]
     },
     "execution_count": 16,
     "metadata": {},
     "output_type": "execute_result"
    }
   ],
   "source": [
    "l[-2]"
   ]
  },
  {
   "cell_type": "code",
   "execution_count": 17,
   "id": "9166413e-17de-45c0-b91b-6165dba47808",
   "metadata": {},
   "outputs": [],
   "source": [
    "l[2] = 3.14"
   ]
  },
  {
   "cell_type": "code",
   "execution_count": 18,
   "id": "ab4bbacf-d1c0-44b4-b703-71ff4a38912f",
   "metadata": {},
   "outputs": [
    {
     "data": {
      "text/plain": [
       "[10, 20, 3.14, 40, 50]"
      ]
     },
     "execution_count": 18,
     "metadata": {},
     "output_type": "execute_result"
    }
   ],
   "source": [
    "l"
   ]
  },
  {
   "cell_type": "code",
   "execution_count": 19,
   "id": "2c9debee-98a1-4739-8479-422db5f2727c",
   "metadata": {},
   "outputs": [],
   "source": [
    "l[-1] = 'Hello'"
   ]
  },
  {
   "cell_type": "code",
   "execution_count": 20,
   "id": "28ad5273-7d57-454f-b0bb-4dd624d890ec",
   "metadata": {},
   "outputs": [
    {
     "data": {
      "text/plain": [
       "[10, 20, 3.14, 40, 'Hello']"
      ]
     },
     "execution_count": 20,
     "metadata": {},
     "output_type": "execute_result"
    }
   ],
   "source": [
    "l"
   ]
  },
  {
   "cell_type": "code",
   "execution_count": 31,
   "id": "e6d23319-b859-4a25-aa10-bc58d86b1eee",
   "metadata": {},
   "outputs": [
    {
     "data": {
      "text/plain": [
       "(1, 2, 3)"
      ]
     },
     "execution_count": 31,
     "metadata": {},
     "output_type": "execute_result"
    }
   ],
   "source": [
    "#tuples\n",
    "t = (1, 2, 3)\n",
    "t"
   ]
  },
  {
   "cell_type": "code",
   "execution_count": 25,
   "id": "be221620-1f80-4d1a-8a43-82f99361eabe",
   "metadata": {},
   "outputs": [
    {
     "data": {
      "text/plain": [
       "((1, 2, 3), tuple)"
      ]
     },
     "execution_count": 25,
     "metadata": {},
     "output_type": "execute_result"
    }
   ],
   "source": [
    "t, type(t)"
   ]
  },
  {
   "cell_type": "code",
   "execution_count": 27,
   "id": "8065e803-4781-4197-b763-a0df03647cc5",
   "metadata": {},
   "outputs": [
    {
     "data": {
      "text/plain": [
       "1"
      ]
     },
     "execution_count": 27,
     "metadata": {},
     "output_type": "execute_result"
    }
   ],
   "source": [
    "t[0]"
   ]
  },
  {
   "cell_type": "markdown",
   "id": "1f7a6e6a-5064-4e3a-9836-adb99562c9da",
   "metadata": {},
   "source": [
    "t[1]"
   ]
  },
  {
   "cell_type": "code",
   "execution_count": 29,
   "id": "0ebfdfa0-3d37-44fb-991e-a27ab82cc93c",
   "metadata": {},
   "outputs": [
    {
     "data": {
      "text/plain": [
       "3"
      ]
     },
     "execution_count": 29,
     "metadata": {},
     "output_type": "execute_result"
    }
   ],
   "source": [
    "len(t)"
   ]
  },
  {
   "cell_type": "code",
   "execution_count": 32,
   "id": "ccf783d7-6fa1-4dbc-a016-2ed4d95036ad",
   "metadata": {},
   "outputs": [],
   "source": [
    "t = ([1, 2], [3, 4])"
   ]
  },
  {
   "cell_type": "code",
   "execution_count": 33,
   "id": "c5a56676-bfd6-4e78-b3af-1ee7e2802d1f",
   "metadata": {},
   "outputs": [
    {
     "data": {
      "text/plain": [
       "([1, 2], list)"
      ]
     },
     "execution_count": 33,
     "metadata": {},
     "output_type": "execute_result"
    }
   ],
   "source": [
    "t[0], type(t[0])"
   ]
  },
  {
   "cell_type": "code",
   "execution_count": 38,
   "id": "b9f9be74-a5c7-4e03-a11e-fcc473674a86",
   "metadata": {},
   "outputs": [],
   "source": [
    "tt = t[0]"
   ]
  },
  {
   "cell_type": "code",
   "execution_count": 39,
   "id": "f3acb26d-a419-4023-b412-2d646b10fcce",
   "metadata": {},
   "outputs": [
    {
     "data": {
      "text/plain": [
       "[1, 2]"
      ]
     },
     "execution_count": 39,
     "metadata": {},
     "output_type": "execute_result"
    }
   ],
   "source": [
    "tt"
   ]
  },
  {
   "cell_type": "code",
   "execution_count": 40,
   "id": "ffde7ebc-023a-4b48-b43a-ceeb2b2a069a",
   "metadata": {},
   "outputs": [],
   "source": [
    "tt[0] = 100"
   ]
  },
  {
   "cell_type": "code",
   "execution_count": 41,
   "id": "92083b84-64fc-4b7c-ae42-975a59d8aaec",
   "metadata": {},
   "outputs": [
    {
     "data": {
      "text/plain": [
       "[100, 2]"
      ]
     },
     "execution_count": 41,
     "metadata": {},
     "output_type": "execute_result"
    }
   ],
   "source": [
    "tt"
   ]
  },
  {
   "cell_type": "code",
   "execution_count": 42,
   "id": "f2830c81-1cb4-47ac-b6a2-75db1bf1e85d",
   "metadata": {},
   "outputs": [
    {
     "data": {
      "text/plain": [
       "([100, 2], [3, 4])"
      ]
     },
     "execution_count": 42,
     "metadata": {},
     "output_type": "execute_result"
    }
   ],
   "source": [
    "t"
   ]
  },
  {
   "cell_type": "code",
   "execution_count": 43,
   "id": "00130650-835f-413e-b051-79484229a93c",
   "metadata": {},
   "outputs": [
    {
     "data": {
      "text/plain": [
       "([100, 2], [3, 400])"
      ]
     },
     "execution_count": 43,
     "metadata": {},
     "output_type": "execute_result"
    }
   ],
   "source": [
    "t[1][1] = 400\n",
    "t"
   ]
  },
  {
   "cell_type": "code",
   "execution_count": 44,
   "id": "83fbcc21-f9c7-42b2-8f53-44cf66f0f0a1",
   "metadata": {},
   "outputs": [],
   "source": [
    "#Strings\n",
    "a = 'Hello'"
   ]
  },
  {
   "cell_type": "code",
   "execution_count": 45,
   "id": "643ac467-0e79-4f1e-b3f2-ce861e19c9b4",
   "metadata": {},
   "outputs": [],
   "source": [
    "b = 'Python'"
   ]
  },
  {
   "cell_type": "code",
   "execution_count": 46,
   "id": "5aae5b7a-ebce-4b91-8c20-8a31997efaa5",
   "metadata": {},
   "outputs": [
    {
     "data": {
      "text/plain": [
       "'Hello'"
      ]
     },
     "execution_count": 46,
     "metadata": {},
     "output_type": "execute_result"
    }
   ],
   "source": [
    "a"
   ]
  },
  {
   "cell_type": "code",
   "execution_count": 47,
   "id": "eeccc081-f0c3-448d-817e-3b0d45533cd8",
   "metadata": {},
   "outputs": [
    {
     "data": {
      "text/plain": [
       "'Python'"
      ]
     },
     "execution_count": 47,
     "metadata": {},
     "output_type": "execute_result"
    }
   ],
   "source": [
    "b"
   ]
  },
  {
   "cell_type": "code",
   "execution_count": 48,
   "id": "9b7729ae-4887-4cae-8492-a2e78e367f31",
   "metadata": {},
   "outputs": [],
   "source": [
    "a = 'Python\\'s best features:'"
   ]
  },
  {
   "cell_type": "code",
   "execution_count": 49,
   "id": "67c903d5-c0a9-4c6d-84f8-06ce478ee23c",
   "metadata": {},
   "outputs": [],
   "source": [
    "a = \"Python's best features:\""
   ]
  },
  {
   "cell_type": "code",
   "execution_count": 50,
   "id": "5836a426-d0f4-4904-8b75-782a77f15214",
   "metadata": {},
   "outputs": [
    {
     "data": {
      "text/plain": [
       "\"Python's best features:\""
      ]
     },
     "execution_count": 50,
     "metadata": {},
     "output_type": "execute_result"
    }
   ],
   "source": [
    "a"
   ]
  },
  {
   "cell_type": "code",
   "execution_count": 51,
   "id": "4d1b2fac-497e-4e00-ab37-8110dcbf7c02",
   "metadata": {},
   "outputs": [],
   "source": [
    "s = 'Python rocks!'"
   ]
  },
  {
   "cell_type": "code",
   "execution_count": 52,
   "id": "db0202f5-87f5-4843-b1f7-780df80a3b2c",
   "metadata": {},
   "outputs": [
    {
     "data": {
      "text/plain": [
       "'P'"
      ]
     },
     "execution_count": 52,
     "metadata": {},
     "output_type": "execute_result"
    }
   ],
   "source": [
    "s[0]"
   ]
  },
  {
   "cell_type": "code",
   "execution_count": 53,
   "id": "99199ed6-bcb6-4cc7-bccf-6face86bceb8",
   "metadata": {},
   "outputs": [
    {
     "data": {
      "text/plain": [
       "'y'"
      ]
     },
     "execution_count": 53,
     "metadata": {},
     "output_type": "execute_result"
    }
   ],
   "source": [
    "s[1]"
   ]
  },
  {
   "cell_type": "code",
   "execution_count": 54,
   "id": "3eacd6b6-9e0c-4180-9551-a564fd3b4ed5",
   "metadata": {},
   "outputs": [
    {
     "data": {
      "text/plain": [
       "13"
      ]
     },
     "execution_count": 54,
     "metadata": {},
     "output_type": "execute_result"
    }
   ],
   "source": [
    "len(s)"
   ]
  },
  {
   "cell_type": "code",
   "execution_count": 59,
   "id": "9664d522-cb99-4578-8dd6-2a9130ff2491",
   "metadata": {},
   "outputs": [],
   "source": [
    " #Slice\n",
    "S = 'Isaac Newton'"
   ]
  },
  {
   "cell_type": "code",
   "execution_count": 58,
   "id": "b0c45825-84dc-424a-a68d-1ebc6851ba45",
   "metadata": {},
   "outputs": [
    {
     "data": {
      "text/plain": [
       "'Isaac'"
      ]
     },
     "execution_count": 58,
     "metadata": {},
     "output_type": "execute_result"
    }
   ],
   "source": [
    "S[0:5]"
   ]
  },
  {
   "cell_type": "code",
   "execution_count": 60,
   "id": "0ed9f5eb-bf48-4e99-a0c4-b1476fcbaf06",
   "metadata": {},
   "outputs": [
    {
     "data": {
      "text/plain": [
       "[10, 20, 30, 40, 50, 60, 70, 80, 90, 100]"
      ]
     },
     "execution_count": 60,
     "metadata": {},
     "output_type": "execute_result"
    }
   ],
   "source": [
    "l = [10, 20, 30, 40, 50, 60, 70, 80, 90, 100]\n",
    "l"
   ]
  },
  {
   "cell_type": "code",
   "execution_count": 61,
   "id": "80f4284a-6c6d-440c-b5d0-f6a544add8f4",
   "metadata": {},
   "outputs": [
    {
     "data": {
      "text/plain": [
       "[30, 50, 70, 90]"
      ]
     },
     "execution_count": 61,
     "metadata": {},
     "output_type": "execute_result"
    }
   ],
   "source": [
    "l[2:10:2]\n",
    "#Start at index 2\n",
    "#end at but exclude index 10\n",
    "#move in steps of 2"
   ]
  },
  {
   "cell_type": "code",
   "execution_count": 62,
   "id": "ee59f1e0-c99e-4a61-a4e1-74a882f3904f",
   "metadata": {},
   "outputs": [],
   "source": [
    "#Slice\n",
    "s = 'Python rocks!'"
   ]
  },
  {
   "cell_type": "code",
   "execution_count": 63,
   "id": "261d7cc5-c967-4ab4-9802-ddac8a3f69c7",
   "metadata": {},
   "outputs": [
    {
     "data": {
      "text/plain": [
       "'n'"
      ]
     },
     "execution_count": 63,
     "metadata": {},
     "output_type": "execute_result"
    }
   ],
   "source": [
    "s[5]"
   ]
  },
  {
   "cell_type": "code",
   "execution_count": 64,
   "id": "9df45fc8-ae8f-4868-bf74-d383e013c2a4",
   "metadata": {},
   "outputs": [
    {
     "data": {
      "text/plain": [
       "'Pytho'"
      ]
     },
     "execution_count": 64,
     "metadata": {},
     "output_type": "execute_result"
    }
   ],
   "source": [
    "s[0:5]"
   ]
  },
  {
   "cell_type": "code",
   "execution_count": 65,
   "id": "ca48c8bc-826f-4b25-b899-14c1bfadb22f",
   "metadata": {},
   "outputs": [
    {
     "data": {
      "text/plain": [
       "'Python'"
      ]
     },
     "execution_count": 65,
     "metadata": {},
     "output_type": "execute_result"
    }
   ],
   "source": [
    "s[0:5 +1]"
   ]
  },
  {
   "cell_type": "code",
   "execution_count": 66,
   "id": "63c1b04e-97bc-4735-ad06-a0859007d4b3",
   "metadata": {},
   "outputs": [
    {
     "data": {
      "text/plain": [
       "'rocks!'"
      ]
     },
     "execution_count": 66,
     "metadata": {},
     "output_type": "execute_result"
    }
   ],
   "source": [
    "s[7:]"
   ]
  },
  {
   "cell_type": "code",
   "execution_count": 67,
   "id": "3b291e3a-da4a-4c92-8f3d-9f6897ada373",
   "metadata": {},
   "outputs": [
    {
     "data": {
      "text/plain": [
       "'Python'"
      ]
     },
     "execution_count": 67,
     "metadata": {},
     "output_type": "execute_result"
    }
   ],
   "source": [
    "s[:6]"
   ]
  },
  {
   "cell_type": "code",
   "execution_count": 68,
   "id": "5fde1bf3-0a00-4167-9d8b-f84fae8634ef",
   "metadata": {},
   "outputs": [],
   "source": [
    " s = [1, 2, 3, 4, 5, 6, 7, 8, 9, 10]"
   ]
  },
  {
   "cell_type": "code",
   "execution_count": 69,
   "id": "cf5a0d41-e92f-4717-a41e-cf15e1b3ba74",
   "metadata": {},
   "outputs": [
    {
     "data": {
      "text/plain": [
       "[2, 3, 4, 5, 6, 7, 8]"
      ]
     },
     "execution_count": 69,
     "metadata": {},
     "output_type": "execute_result"
    }
   ],
   "source": [
    "s[1:8]"
   ]
  },
  {
   "cell_type": "code",
   "execution_count": 71,
   "id": "311abc5c-1ecd-4bb9-802a-4d71a42bcf76",
   "metadata": {},
   "outputs": [
    {
     "data": {
      "text/plain": [
       "[2, 4, 6, 8]"
      ]
     },
     "execution_count": 71,
     "metadata": {},
     "output_type": "execute_result"
    }
   ],
   "source": [
    "s[1:8:2]"
   ]
  },
  {
   "cell_type": "code",
   "execution_count": 72,
   "id": "09d79152-8762-458c-aab2-46b76e2d24ed",
   "metadata": {},
   "outputs": [
    {
     "data": {
      "text/plain": [
       "[1, 3, 5, 7, 9]"
      ]
     },
     "execution_count": 72,
     "metadata": {},
     "output_type": "execute_result"
    }
   ],
   "source": [
    "s[0::2]"
   ]
  },
  {
   "cell_type": "code",
   "execution_count": 73,
   "id": "c77fd33b-5978-49d6-8efc-0634d5887b21",
   "metadata": {},
   "outputs": [],
   "source": [
    "s = 'abcdef'"
   ]
  },
  {
   "cell_type": "code",
   "execution_count": 74,
   "id": "4f15b2f1-bb8c-487d-b771-95e52f00a7e4",
   "metadata": {},
   "outputs": [
    {
     "data": {
      "text/plain": [
       "'c'"
      ]
     },
     "execution_count": 74,
     "metadata": {},
     "output_type": "execute_result"
    }
   ],
   "source": [
    "s[-4]"
   ]
  },
  {
   "cell_type": "code",
   "execution_count": 75,
   "id": "800f388e-2be0-4638-bc1e-5b67e141c380",
   "metadata": {},
   "outputs": [
    {
     "data": {
      "text/plain": [
       "'f'"
      ]
     },
     "execution_count": 75,
     "metadata": {},
     "output_type": "execute_result"
    }
   ],
   "source": [
    "s[-1]"
   ]
  },
  {
   "cell_type": "code",
   "execution_count": 76,
   "id": "5ff48dff-8348-4b91-9ac7-2f1421171ab4",
   "metadata": {},
   "outputs": [
    {
     "data": {
      "text/plain": [
       "'fedcba'"
      ]
     },
     "execution_count": 76,
     "metadata": {},
     "output_type": "execute_result"
    }
   ],
   "source": [
    "s[::-1]"
   ]
  },
  {
   "cell_type": "code",
   "execution_count": 77,
   "id": "a6127b10-a8f2-453d-8d58-85320a12db83",
   "metadata": {},
   "outputs": [],
   "source": [
    "a = 'racecar'"
   ]
  },
  {
   "cell_type": "code",
   "execution_count": 78,
   "id": "e53e4dc3-2c63-4a28-9eec-dd567a782f02",
   "metadata": {},
   "outputs": [
    {
     "data": {
      "text/plain": [
       "True"
      ]
     },
     "execution_count": 78,
     "metadata": {},
     "output_type": "execute_result"
    }
   ],
   "source": [
    "a == a[::-1]"
   ]
  },
  {
   "cell_type": "code",
   "execution_count": 79,
   "id": "e30c687e-aebe-4d2d-af51-0342107703b6",
   "metadata": {},
   "outputs": [],
   "source": [
    "l = [10, 20, 3, 40, 50]"
   ]
  },
  {
   "cell_type": "code",
   "execution_count": 80,
   "id": "613018c4-10ce-43cb-a105-3c8041a3572e",
   "metadata": {},
   "outputs": [],
   "source": [
    "l[2] = 30"
   ]
  },
  {
   "cell_type": "code",
   "execution_count": 81,
   "id": "e566580a-8220-467d-b722-b53ae6c49424",
   "metadata": {},
   "outputs": [
    {
     "data": {
      "text/plain": [
       "[10, 20, 30, 40, 50]"
      ]
     },
     "execution_count": 81,
     "metadata": {},
     "output_type": "execute_result"
    }
   ],
   "source": [
    "l"
   ]
  },
  {
   "cell_type": "code",
   "execution_count": 82,
   "id": "01644f4f-37f5-4e44-82ed-0bbd234cbda5",
   "metadata": {},
   "outputs": [],
   "source": [
    "l = [1, 20, 30, 5, 6]"
   ]
  },
  {
   "cell_type": "code",
   "execution_count": 84,
   "id": "143f742d-732d-4861-af01-caef820707b6",
   "metadata": {},
   "outputs": [
    {
     "data": {
      "text/plain": [
       "[20, 30]"
      ]
     },
     "execution_count": 84,
     "metadata": {},
     "output_type": "execute_result"
    }
   ],
   "source": [
    "l[1:3]"
   ]
  },
  {
   "cell_type": "code",
   "execution_count": 85,
   "id": "795a9e48-5918-4e6f-8a37-242ee762b8ac",
   "metadata": {},
   "outputs": [],
   "source": [
    "#Assignment using slice\n",
    "l[1:3] = [2, 3, 4]"
   ]
  },
  {
   "cell_type": "code",
   "execution_count": 86,
   "id": "357d0248-8d1b-461e-87ab-b520d0fe6f79",
   "metadata": {},
   "outputs": [
    {
     "data": {
      "text/plain": [
       "[1, 2, 3, 4, 5, 6]"
      ]
     },
     "execution_count": 86,
     "metadata": {},
     "output_type": "execute_result"
    }
   ],
   "source": [
    "l"
   ]
  },
  {
   "cell_type": "code",
   "execution_count": 87,
   "id": "4c554f3e-3194-4e17-bc68-91d6bbb40e21",
   "metadata": {},
   "outputs": [
    {
     "data": {
      "text/plain": [
       "[2, 3]"
      ]
     },
     "execution_count": 87,
     "metadata": {},
     "output_type": "execute_result"
    }
   ],
   "source": [
    "l[1:3]"
   ]
  },
  {
   "cell_type": "code",
   "execution_count": 89,
   "id": "88bb281a-f20b-4d4b-852b-96ccae72b4c9",
   "metadata": {},
   "outputs": [],
   "source": [
    "l[1:3] = 'Python'"
   ]
  },
  {
   "cell_type": "code",
   "execution_count": 90,
   "id": "4fa543ac-3b54-4372-8d00-34407e1fc820",
   "metadata": {},
   "outputs": [
    {
     "data": {
      "text/plain": [
       "[1, 'P', 'y', 't', 'h', 'o', 'n', 4, 5, 6]"
      ]
     },
     "execution_count": 90,
     "metadata": {},
     "output_type": "execute_result"
    }
   ],
   "source": [
    "l"
   ]
  },
  {
   "cell_type": "code",
   "execution_count": 91,
   "id": "75a1f999-aa1d-4232-9b3e-3ca1e9be9fdc",
   "metadata": {},
   "outputs": [],
   "source": [
    "l = [1, 2, 3, 4, 5, 6, 7, 8]"
   ]
  },
  {
   "cell_type": "code",
   "execution_count": 92,
   "id": "807736f1-8712-40ca-8911-bc9634652996",
   "metadata": {},
   "outputs": [
    {
     "data": {
      "text/plain": [
       "[2, 4, 6, 8]"
      ]
     },
     "execution_count": 92,
     "metadata": {},
     "output_type": "execute_result"
    }
   ],
   "source": [
    "l[1::2]"
   ]
  },
  {
   "cell_type": "code",
   "execution_count": 93,
   "id": "4c0123b0-9cbf-4a55-9573-e9031801636a",
   "metadata": {},
   "outputs": [
    {
     "data": {
      "text/plain": [
       "[1, 2, 3, 4, 5, 6, 7, 8]"
      ]
     },
     "execution_count": 93,
     "metadata": {},
     "output_type": "execute_result"
    }
   ],
   "source": [
    "l"
   ]
  },
  {
   "cell_type": "code",
   "execution_count": 94,
   "id": "c9ab7153-2125-4f2c-863f-3299f8b5e9dc",
   "metadata": {},
   "outputs": [],
   "source": [
    "del l[2]"
   ]
  },
  {
   "cell_type": "code",
   "execution_count": 95,
   "id": "5b12757c-dbbd-4700-a1bf-b85907026fe8",
   "metadata": {},
   "outputs": [
    {
     "data": {
      "text/plain": [
       "[1, 2, 4, 5, 6, 7, 8]"
      ]
     },
     "execution_count": 95,
     "metadata": {},
     "output_type": "execute_result"
    }
   ],
   "source": [
    "l"
   ]
  },
  {
   "cell_type": "code",
   "execution_count": 96,
   "id": "19ea818f-4b54-48e4-b80c-d82f65fdb182",
   "metadata": {},
   "outputs": [],
   "source": [
    "l = [1, 2, 3, 4, 5, 6]"
   ]
  },
  {
   "cell_type": "code",
   "execution_count": 97,
   "id": "0706bd0c-14a1-4853-a3c0-1033e4b7a4eb",
   "metadata": {},
   "outputs": [
    {
     "data": {
      "text/plain": [
       "[1, 3, 5]"
      ]
     },
     "execution_count": 97,
     "metadata": {},
     "output_type": "execute_result"
    }
   ],
   "source": [
    "l[::2]"
   ]
  },
  {
   "cell_type": "code",
   "execution_count": 98,
   "id": "5b01d8bd-a68d-4898-b69b-e64fd32d8bb7",
   "metadata": {},
   "outputs": [],
   "source": [
    "del l[::2]"
   ]
  },
  {
   "cell_type": "code",
   "execution_count": 99,
   "id": "00102825-7f8c-41e7-ab7b-b6d9c629ea7f",
   "metadata": {},
   "outputs": [
    {
     "data": {
      "text/plain": [
       "[2, 4, 6]"
      ]
     },
     "execution_count": 99,
     "metadata": {},
     "output_type": "execute_result"
    }
   ],
   "source": [
    "l"
   ]
  },
  {
   "cell_type": "code",
   "execution_count": 100,
   "id": "29e61ca4-8167-4a2a-9fd2-686d41f1f439",
   "metadata": {},
   "outputs": [],
   "source": [
    "#Append element\n",
    "l = [1, 2, 3, 4]"
   ]
  },
  {
   "cell_type": "code",
   "execution_count": 103,
   "id": "6a6ebf8d-275b-49a6-bd20-80974da98971",
   "metadata": {},
   "outputs": [],
   "source": [
    "l.append(5)"
   ]
  },
  {
   "cell_type": "code",
   "execution_count": 104,
   "id": "af21d05f-656a-4201-b84b-f0ef36fc4002",
   "metadata": {},
   "outputs": [
    {
     "data": {
      "text/plain": [
       "[1, 2, 3, 4, 5]"
      ]
     },
     "execution_count": 104,
     "metadata": {},
     "output_type": "execute_result"
    }
   ],
   "source": [
    "l"
   ]
  },
  {
   "cell_type": "code",
   "execution_count": 105,
   "id": "a15d1268-1c5e-4a43-b640-5671fa750791",
   "metadata": {},
   "outputs": [],
   "source": [
    "l.append('Python')"
   ]
  },
  {
   "cell_type": "code",
   "execution_count": 106,
   "id": "7e5c7c55-477f-4132-b694-6b7b245e1cd8",
   "metadata": {},
   "outputs": [
    {
     "data": {
      "text/plain": [
       "[1, 2, 3, 4, 5, 'Python']"
      ]
     },
     "execution_count": 106,
     "metadata": {},
     "output_type": "execute_result"
    }
   ],
   "source": [
    "l"
   ]
  },
  {
   "cell_type": "code",
   "execution_count": 109,
   "id": "eff926f0-2161-454d-8939-91c1bfc2d7ef",
   "metadata": {},
   "outputs": [],
   "source": [
    "l.append((1, 2, 3))"
   ]
  },
  {
   "cell_type": "code",
   "execution_count": 110,
   "id": "bcbb2819-bd70-44d2-af4f-784636463842",
   "metadata": {},
   "outputs": [
    {
     "data": {
      "text/plain": [
       "[1, 2, 3, 4, 5, 'Python', (1, 2, 3)]"
      ]
     },
     "execution_count": 110,
     "metadata": {},
     "output_type": "execute_result"
    }
   ],
   "source": [
    "l"
   ]
  },
  {
   "cell_type": "code",
   "execution_count": 111,
   "id": "c57f40ff-6a5c-45f8-9bb6-11c8f4fa69d0",
   "metadata": {},
   "outputs": [],
   "source": [
    "#Extend method variable.extend()\n",
    "l = [1, 2, 3, 4]"
   ]
  },
  {
   "cell_type": "code",
   "execution_count": 112,
   "id": "86d3f848-d658-4bb7-8b17-7431a6eb6af2",
   "metadata": {},
   "outputs": [
    {
     "data": {
      "text/plain": [
       "[1, 2, 3, 4]"
      ]
     },
     "execution_count": 112,
     "metadata": {},
     "output_type": "execute_result"
    }
   ],
   "source": [
    "l"
   ]
  },
  {
   "cell_type": "code",
   "execution_count": 113,
   "id": "30db7deb-dea6-4884-8bd0-cfecf573c5e6",
   "metadata": {},
   "outputs": [],
   "source": [
    "l.extend([5, 6, 7, 8])"
   ]
  },
  {
   "cell_type": "code",
   "execution_count": 114,
   "id": "cd81ab2b-882e-4592-aee0-ee18db2c2982",
   "metadata": {},
   "outputs": [
    {
     "data": {
      "text/plain": [
       "[1, 2, 3, 4, 5, 6, 7, 8]"
      ]
     },
     "execution_count": 114,
     "metadata": {},
     "output_type": "execute_result"
    }
   ],
   "source": [
    "l"
   ]
  },
  {
   "cell_type": "code",
   "execution_count": 115,
   "id": "5066074f-6945-4a57-a359-4436c272e792",
   "metadata": {},
   "outputs": [],
   "source": [
    "l = [1, 2, 3, 4]"
   ]
  },
  {
   "cell_type": "code",
   "execution_count": 116,
   "id": "f4fdd5df-0837-4a19-830a-b09f8c0b1662",
   "metadata": {},
   "outputs": [
    {
     "data": {
      "text/plain": [
       "[1, 2, 3, 4]"
      ]
     },
     "execution_count": 116,
     "metadata": {},
     "output_type": "execute_result"
    }
   ],
   "source": [
    "l"
   ]
  },
  {
   "cell_type": "code",
   "execution_count": 117,
   "id": "4966892d-dbfd-4203-9f09-53f512177cd2",
   "metadata": {},
   "outputs": [],
   "source": [
    "l.append([5, 6, 7, 8])"
   ]
  },
  {
   "cell_type": "code",
   "execution_count": 118,
   "id": "8367b45d-030c-4ae3-ba89-6eb93c5112c5",
   "metadata": {},
   "outputs": [
    {
     "data": {
      "text/plain": [
       "[1, 2, 3, 4, [5, 6, 7, 8]]"
      ]
     },
     "execution_count": 118,
     "metadata": {},
     "output_type": "execute_result"
    }
   ],
   "source": [
    "l"
   ]
  },
  {
   "cell_type": "code",
   "execution_count": 119,
   "id": "c07e273e-fed5-4420-a5cb-24553711b696",
   "metadata": {},
   "outputs": [],
   "source": [
    "l = [1, 2, 3, 4]"
   ]
  },
  {
   "cell_type": "code",
   "execution_count": 120,
   "id": "241aa902-7286-47b3-8722-8b2fbee20be7",
   "metadata": {},
   "outputs": [],
   "source": [
    "l.extend([5, 6, 7, 8])"
   ]
  },
  {
   "cell_type": "code",
   "execution_count": 121,
   "id": "eadf51f1-83f2-4332-8b1e-7fe538066856",
   "metadata": {},
   "outputs": [
    {
     "data": {
      "text/plain": [
       "[1, 2, 3, 4, 5, 6, 7, 8]"
      ]
     },
     "execution_count": 121,
     "metadata": {},
     "output_type": "execute_result"
    }
   ],
   "source": [
    "l"
   ]
  },
  {
   "cell_type": "code",
   "execution_count": null,
   "id": "e96d95a0-1da6-4399-9124-69db6d2cd9b8",
   "metadata": {},
   "outputs": [],
   "source": []
  }
 ],
 "metadata": {
  "kernelspec": {
   "display_name": "Python 3 (ipykernel)",
   "language": "python",
   "name": "python3"
  },
  "language_info": {
   "codemirror_mode": {
    "name": "ipython",
    "version": 3
   },
   "file_extension": ".py",
   "mimetype": "text/x-python",
   "name": "python",
   "nbconvert_exporter": "python",
   "pygments_lexer": "ipython3",
   "version": "3.9.0"
  }
 },
 "nbformat": 4,
 "nbformat_minor": 5
}
