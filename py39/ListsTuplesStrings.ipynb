{
 "cells": [
  {
   "cell_type": "code",
   "execution_count": 2,
   "id": "e803e7cf-dce5-4217-9d44-2433e9e966c3",
   "metadata": {},
   "outputs": [],
   "source": [
    "l = [10, 20, 30 ,40 ,50]"
   ]
  },
  {
   "cell_type": "code",
   "execution_count": 3,
   "id": "dae7fd07-fb67-4d79-aba3-c447efdc942b",
   "metadata": {},
   "outputs": [
    {
     "data": {
      "text/plain": [
       "10"
      ]
     },
     "execution_count": 3,
     "metadata": {},
     "output_type": "execute_result"
    }
   ],
   "source": [
    "l[0]"
   ]
  },
  {
   "cell_type": "code",
   "execution_count": 4,
   "id": "ec4312a7-6e6d-45b1-81cd-c824fe408024",
   "metadata": {},
   "outputs": [
    {
     "data": {
      "text/plain": [
       "30"
      ]
     },
     "execution_count": 4,
     "metadata": {},
     "output_type": "execute_result"
    }
   ],
   "source": [
    "l[2]"
   ]
  },
  {
   "cell_type": "code",
   "execution_count": 6,
   "id": "92ba2a69-6f09-4277-b306-c7b99e3db0bf",
   "metadata": {},
   "outputs": [
    {
     "data": {
      "text/plain": [
       "5"
      ]
     },
     "execution_count": 6,
     "metadata": {},
     "output_type": "execute_result"
    }
   ],
   "source": [
    "len(l)"
   ]
  },
  {
   "cell_type": "code",
   "execution_count": 7,
   "id": "281c2613-3a5d-487e-9150-a2be2d6f8ff1",
   "metadata": {},
   "outputs": [],
   "source": [
    "l = []"
   ]
  },
  {
   "cell_type": "code",
   "execution_count": 8,
   "id": "f884581a-eedf-4d8e-a592-f916b10967c0",
   "metadata": {},
   "outputs": [
    {
     "name": "stdout",
     "output_type": "stream",
     "text": [
      "30\n"
     ]
    }
   ],
   "source": [
    "l = [10, 20, 30, 40 ,50]\n",
    "print(l[2])"
   ]
  },
  {
   "cell_type": "code",
   "execution_count": 9,
   "id": "4764853b-8f0e-49a1-9b6b-f43a86b23397",
   "metadata": {},
   "outputs": [],
   "source": [
    "l[2] = True"
   ]
  },
  {
   "cell_type": "code",
   "execution_count": 10,
   "id": "8e26a401-3464-4951-87c1-c39753ce621d",
   "metadata": {},
   "outputs": [
    {
     "name": "stdout",
     "output_type": "stream",
     "text": [
      "True\n"
     ]
    }
   ],
   "source": [
    "print(l[2])"
   ]
  },
  {
   "cell_type": "code",
   "execution_count": 11,
   "id": "a9fe6551-047e-4ddf-838a-009c85928ac4",
   "metadata": {},
   "outputs": [],
   "source": [
    "l = [10, 20, 30, 40, 50]"
   ]
  },
  {
   "cell_type": "code",
   "execution_count": 12,
   "id": "8b3fe073-630c-4745-8446-535b58a88a49",
   "metadata": {},
   "outputs": [
    {
     "data": {
      "text/plain": [
       "[10, 20, 30, 40, 50]"
      ]
     },
     "execution_count": 12,
     "metadata": {},
     "output_type": "execute_result"
    }
   ],
   "source": [
    "l"
   ]
  },
  {
   "cell_type": "code",
   "execution_count": 13,
   "id": "a90ae82f-ca9e-4c85-a962-c488597a70f8",
   "metadata": {},
   "outputs": [
    {
     "data": {
      "text/plain": [
       "list"
      ]
     },
     "execution_count": 13,
     "metadata": {},
     "output_type": "execute_result"
    }
   ],
   "source": [
    "type(l)"
   ]
  },
  {
   "cell_type": "code",
   "execution_count": 14,
   "id": "ab5f15ef-7656-4523-8037-2fec41462036",
   "metadata": {},
   "outputs": [
    {
     "data": {
      "text/plain": [
       "10"
      ]
     },
     "execution_count": 14,
     "metadata": {},
     "output_type": "execute_result"
    }
   ],
   "source": []
  },
  {
   "cell_type": "code",
   "execution_count": 15,
   "id": "b46a7595-ac0e-4665-a584-3a23c64a4d91",
   "metadata": {},
   "outputs": [
    {
     "data": {
      "text/plain": [
       "50"
      ]
     },
     "execution_count": 15,
     "metadata": {},
     "output_type": "execute_result"
    }
   ],
   "source": [
    "l[-1]"
   ]
  },
  {
   "cell_type": "code",
   "execution_count": 16,
   "id": "7cf7b7f4-86ee-471f-8c9f-96e488cd88ea",
   "metadata": {},
   "outputs": [
    {
     "data": {
      "text/plain": [
       "40"
      ]
     },
     "execution_count": 16,
     "metadata": {},
     "output_type": "execute_result"
    }
   ],
   "source": [
    "l[-2]"
   ]
  },
  {
   "cell_type": "code",
   "execution_count": 17,
   "id": "9166413e-17de-45c0-b91b-6165dba47808",
   "metadata": {},
   "outputs": [],
   "source": [
    "l[2] = 3.14"
   ]
  },
  {
   "cell_type": "code",
   "execution_count": 18,
   "id": "ab4bbacf-d1c0-44b4-b703-71ff4a38912f",
   "metadata": {},
   "outputs": [
    {
     "data": {
      "text/plain": [
       "[10, 20, 3.14, 40, 50]"
      ]
     },
     "execution_count": 18,
     "metadata": {},
     "output_type": "execute_result"
    }
   ],
   "source": [
    "l"
   ]
  },
  {
   "cell_type": "code",
   "execution_count": 19,
   "id": "2c9debee-98a1-4739-8479-422db5f2727c",
   "metadata": {},
   "outputs": [],
   "source": [
    "l[-1] = 'Hello'"
   ]
  },
  {
   "cell_type": "code",
   "execution_count": 20,
   "id": "28ad5273-7d57-454f-b0bb-4dd624d890ec",
   "metadata": {},
   "outputs": [
    {
     "data": {
      "text/plain": [
       "[10, 20, 3.14, 40, 'Hello']"
      ]
     },
     "execution_count": 20,
     "metadata": {},
     "output_type": "execute_result"
    }
   ],
   "source": [
    "l"
   ]
  },
  {
   "cell_type": "code",
   "execution_count": 31,
   "id": "e6d23319-b859-4a25-aa10-bc58d86b1eee",
   "metadata": {},
   "outputs": [
    {
     "data": {
      "text/plain": [
       "(1, 2, 3)"
      ]
     },
     "execution_count": 31,
     "metadata": {},
     "output_type": "execute_result"
    }
   ],
   "source": [
    "#tuples\n",
    "t = (1, 2, 3)\n",
    "t"
   ]
  },
  {
   "cell_type": "code",
   "execution_count": 25,
   "id": "be221620-1f80-4d1a-8a43-82f99361eabe",
   "metadata": {},
   "outputs": [
    {
     "data": {
      "text/plain": [
       "((1, 2, 3), tuple)"
      ]
     },
     "execution_count": 25,
     "metadata": {},
     "output_type": "execute_result"
    }
   ],
   "source": [
    "t, type(t)"
   ]
  },
  {
   "cell_type": "code",
   "execution_count": 27,
   "id": "8065e803-4781-4197-b763-a0df03647cc5",
   "metadata": {},
   "outputs": [
    {
     "data": {
      "text/plain": [
       "1"
      ]
     },
     "execution_count": 27,
     "metadata": {},
     "output_type": "execute_result"
    }
   ],
   "source": [
    "t[0]"
   ]
  },
  {
   "cell_type": "markdown",
   "id": "1f7a6e6a-5064-4e3a-9836-adb99562c9da",
   "metadata": {},
   "source": [
    "t[1]"
   ]
  },
  {
   "cell_type": "code",
   "execution_count": 29,
   "id": "0ebfdfa0-3d37-44fb-991e-a27ab82cc93c",
   "metadata": {},
   "outputs": [
    {
     "data": {
      "text/plain": [
       "3"
      ]
     },
     "execution_count": 29,
     "metadata": {},
     "output_type": "execute_result"
    }
   ],
   "source": [
    "len(t)"
   ]
  },
  {
   "cell_type": "code",
   "execution_count": 32,
   "id": "ccf783d7-6fa1-4dbc-a016-2ed4d95036ad",
   "metadata": {},
   "outputs": [],
   "source": [
    "t = ([1, 2], [3, 4])"
   ]
  },
  {
   "cell_type": "code",
   "execution_count": 33,
   "id": "c5a56676-bfd6-4e78-b3af-1ee7e2802d1f",
   "metadata": {},
   "outputs": [
    {
     "data": {
      "text/plain": [
       "([1, 2], list)"
      ]
     },
     "execution_count": 33,
     "metadata": {},
     "output_type": "execute_result"
    }
   ],
   "source": [
    "t[0], type(t[0])"
   ]
  },
  {
   "cell_type": "code",
   "execution_count": 38,
   "id": "b9f9be74-a5c7-4e03-a11e-fcc473674a86",
   "metadata": {},
   "outputs": [],
   "source": [
    "tt = t[0]"
   ]
  },
  {
   "cell_type": "code",
   "execution_count": 39,
   "id": "f3acb26d-a419-4023-b412-2d646b10fcce",
   "metadata": {},
   "outputs": [
    {
     "data": {
      "text/plain": [
       "[1, 2]"
      ]
     },
     "execution_count": 39,
     "metadata": {},
     "output_type": "execute_result"
    }
   ],
   "source": [
    "tt"
   ]
  },
  {
   "cell_type": "code",
   "execution_count": 40,
   "id": "ffde7ebc-023a-4b48-b43a-ceeb2b2a069a",
   "metadata": {},
   "outputs": [],
   "source": [
    "tt[0] = 100"
   ]
  },
  {
   "cell_type": "code",
   "execution_count": 41,
   "id": "92083b84-64fc-4b7c-ae42-975a59d8aaec",
   "metadata": {},
   "outputs": [
    {
     "data": {
      "text/plain": [
       "[100, 2]"
      ]
     },
     "execution_count": 41,
     "metadata": {},
     "output_type": "execute_result"
    }
   ],
   "source": [
    "tt"
   ]
  },
  {
   "cell_type": "code",
   "execution_count": 42,
   "id": "f2830c81-1cb4-47ac-b6a2-75db1bf1e85d",
   "metadata": {},
   "outputs": [
    {
     "data": {
      "text/plain": [
       "([100, 2], [3, 4])"
      ]
     },
     "execution_count": 42,
     "metadata": {},
     "output_type": "execute_result"
    }
   ],
   "source": [
    "t"
   ]
  },
  {
   "cell_type": "code",
   "execution_count": 43,
   "id": "00130650-835f-413e-b051-79484229a93c",
   "metadata": {},
   "outputs": [
    {
     "data": {
      "text/plain": [
       "([100, 2], [3, 400])"
      ]
     },
     "execution_count": 43,
     "metadata": {},
     "output_type": "execute_result"
    }
   ],
   "source": [
    "t[1][1] = 400\n",
    "t"
   ]
  },
  {
   "cell_type": "code",
   "execution_count": 44,
   "id": "83fbcc21-f9c7-42b2-8f53-44cf66f0f0a1",
   "metadata": {},
   "outputs": [],
   "source": [
    "#Strings\n",
    "a = 'Hello'"
   ]
  },
  {
   "cell_type": "code",
   "execution_count": 45,
   "id": "643ac467-0e79-4f1e-b3f2-ce861e19c9b4",
   "metadata": {},
   "outputs": [],
   "source": [
    "b = 'Python'"
   ]
  },
  {
   "cell_type": "code",
   "execution_count": 46,
   "id": "5aae5b7a-ebce-4b91-8c20-8a31997efaa5",
   "metadata": {},
   "outputs": [
    {
     "data": {
      "text/plain": [
       "'Hello'"
      ]
     },
     "execution_count": 46,
     "metadata": {},
     "output_type": "execute_result"
    }
   ],
   "source": [
    "a"
   ]
  },
  {
   "cell_type": "code",
   "execution_count": 47,
   "id": "eeccc081-f0c3-448d-817e-3b0d45533cd8",
   "metadata": {},
   "outputs": [
    {
     "data": {
      "text/plain": [
       "'Python'"
      ]
     },
     "execution_count": 47,
     "metadata": {},
     "output_type": "execute_result"
    }
   ],
   "source": [
    "b"
   ]
  },
  {
   "cell_type": "code",
   "execution_count": 48,
   "id": "9b7729ae-4887-4cae-8492-a2e78e367f31",
   "metadata": {},
   "outputs": [],
   "source": [
    "a = 'Python\\'s best features:'"
   ]
  },
  {
   "cell_type": "code",
   "execution_count": 49,
   "id": "67c903d5-c0a9-4c6d-84f8-06ce478ee23c",
   "metadata": {},
   "outputs": [],
   "source": [
    "a = \"Python's best features:\""
   ]
  },
  {
   "cell_type": "code",
   "execution_count": 50,
   "id": "5836a426-d0f4-4904-8b75-782a77f15214",
   "metadata": {},
   "outputs": [
    {
     "data": {
      "text/plain": [
       "\"Python's best features:\""
      ]
     },
     "execution_count": 50,
     "metadata": {},
     "output_type": "execute_result"
    }
   ],
   "source": [
    "a"
   ]
  },
  {
   "cell_type": "code",
   "execution_count": 51,
   "id": "4d1b2fac-497e-4e00-ab37-8110dcbf7c02",
   "metadata": {},
   "outputs": [],
   "source": [
    "s = 'Python rocks!'"
   ]
  },
  {
   "cell_type": "code",
   "execution_count": 52,
   "id": "db0202f5-87f5-4843-b1f7-780df80a3b2c",
   "metadata": {},
   "outputs": [
    {
     "data": {
      "text/plain": [
       "'P'"
      ]
     },
     "execution_count": 52,
     "metadata": {},
     "output_type": "execute_result"
    }
   ],
   "source": [
    "s[0]"
   ]
  },
  {
   "cell_type": "code",
   "execution_count": 53,
   "id": "99199ed6-bcb6-4cc7-bccf-6face86bceb8",
   "metadata": {},
   "outputs": [
    {
     "data": {
      "text/plain": [
       "'y'"
      ]
     },
     "execution_count": 53,
     "metadata": {},
     "output_type": "execute_result"
    }
   ],
   "source": [
    "s[1]"
   ]
  },
  {
   "cell_type": "code",
   "execution_count": 54,
   "id": "3eacd6b6-9e0c-4180-9551-a564fd3b4ed5",
   "metadata": {},
   "outputs": [
    {
     "data": {
      "text/plain": [
       "13"
      ]
     },
     "execution_count": 54,
     "metadata": {},
     "output_type": "execute_result"
    }
   ],
   "source": [
    "len(s)"
   ]
  },
  {
   "cell_type": "code",
   "execution_count": 56,
   "id": "9664d522-cb99-4578-8dd6-2a9130ff2491",
   "metadata": {},
   "outputs": [
    {
     "data": {
      "text/plain": [
       "'s'"
      ]
     },
     "execution_count": 56,
     "metadata": {},
     "output_type": "execute_result"
    }
   ],
   "source": [
    "s[-2]"
   ]
  },
  {
   "cell_type": "code",
   "execution_count": null,
   "id": "b0c45825-84dc-424a-a68d-1ebc6851ba45",
   "metadata": {},
   "outputs": [],
   "source": []
  }
 ],
 "metadata": {
  "kernelspec": {
   "display_name": "Python 3 (ipykernel)",
   "language": "python",
   "name": "python3"
  },
  "language_info": {
   "codemirror_mode": {
    "name": "ipython",
    "version": 3
   },
   "file_extension": ".py",
   "mimetype": "text/x-python",
   "name": "python",
   "nbconvert_exporter": "python",
   "pygments_lexer": "ipython3",
   "version": "3.9.0"
  }
 },
 "nbformat": 4,
 "nbformat_minor": 5
}
