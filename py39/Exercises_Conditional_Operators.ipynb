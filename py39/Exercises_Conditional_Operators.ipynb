{
 "cells": [
  {
   "cell_type": "code",
   "execution_count": 2,
   "id": "ddf0dbb5-8447-4f9c-9370-495549c7e685",
   "metadata": {},
   "outputs": [
    {
     "name": "stdout",
     "output_type": "stream",
     "text": [
      "N/A\n"
     ]
    }
   ],
   "source": [
    "#Exercise 1\n",
    "#Given a variable `a` (containing any value),\n",
    "#re-assign the value `\"N/A\"` if `a` is `None`,\n",
    "#and leave `a` unchanged otherwise. Use an `if...else...` statement.\n",
    "\n",
    "a = None\n",
    "\n",
    "if a is None:\n",
    "    a = \"N/A\"\n",
    "else :\n",
    "    pass\n",
    "\n",
    "print(a)\n",
    "    \n",
    "\n"
   ]
  },
  {
   "cell_type": "code",
   "execution_count": 4,
   "id": "dfcf2986-38a8-4c3c-a691-b33a5c7dea0b",
   "metadata": {},
   "outputs": [
    {
     "name": "stdout",
     "output_type": "stream",
     "text": [
      "N/A\n"
     ]
    }
   ],
   "source": [
    "a = 100\n",
    "\n",
    "if a is None:\n",
    "    a = 'N/A'\n",
    "\n",
    "print(a)"
   ]
  },
  {
   "cell_type": "code",
   "execution_count": null,
   "id": "dea7d580-0105-4f2c-a648-3aa65cab1210",
   "metadata": {},
   "outputs": [],
   "source": [
    "a = 'Python'\n",
    "\n",
    "if a is None:\n",
    "    a = 'N/A'\n",
    "\n",
    "print(a)"
   ]
  }
 ],
 "metadata": {
  "kernelspec": {
   "display_name": "Python 3 (ipykernel)",
   "language": "python",
   "name": "python3"
  },
  "language_info": {
   "codemirror_mode": {
    "name": "ipython",
    "version": 3
   },
   "file_extension": ".py",
   "mimetype": "text/x-python",
   "name": "python",
   "nbconvert_exporter": "python",
   "pygments_lexer": "ipython3",
   "version": "3.9.0"
  }
 },
 "nbformat": 4,
 "nbformat_minor": 5
}
