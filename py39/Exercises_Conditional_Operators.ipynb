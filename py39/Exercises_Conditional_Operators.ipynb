{
 "cells": [
  {
   "cell_type": "code",
   "execution_count": 9,
   "id": "ddf0dbb5-8447-4f9c-9370-495549c7e685",
   "metadata": {},
   "outputs": [
    {
     "name": "stdout",
     "output_type": "stream",
     "text": [
      "N/A\n"
     ]
    }
   ],
   "source": [
    "#Exercise 1\n",
    "#Given a variable `a` (containing any value),\n",
    "#re-assign the value `\"N/A\"` if `a` is `None`,\n",
    "#and leave `a` unchanged otherwise. Use an `if...else...` statement.\n",
    "\n",
    "a = None\n",
    "\n",
    "if a is None:\n",
    "    a = \"N/A\"\n",
    "\n",
    "print(a)\n",
    "    \n",
    "\n"
   ]
  },
  {
   "cell_type": "code",
   "execution_count": 4,
   "id": "dfcf2986-38a8-4c3c-a691-b33a5c7dea0b",
   "metadata": {},
   "outputs": [
    {
     "name": "stdout",
     "output_type": "stream",
     "text": [
      "N/A\n"
     ]
    }
   ],
   "source": [
    "a = 100\n",
    "\n",
    "if a is None:\n",
    "    a = 'N/A'\n",
    "\n",
    "print(a)"
   ]
  },
  {
   "cell_type": "code",
   "execution_count": 5,
   "id": "dea7d580-0105-4f2c-a648-3aa65cab1210",
   "metadata": {},
   "outputs": [
    {
     "name": "stdout",
     "output_type": "stream",
     "text": [
      "Python\n"
     ]
    }
   ],
   "source": [
    "a = 'Python'\n",
    "\n",
    "if a is None:\n",
    "    a = 'N/A'\n",
    "\n",
    "print(a)"
   ]
  },
  {
   "cell_type": "code",
   "execution_count": 8,
   "id": "bbf9fd87-79c3-4b9a-8bbb-3c0bc1062617",
   "metadata": {},
   "outputs": [
    {
     "name": "stdout",
     "output_type": "stream",
     "text": [
      "N/A\n"
     ]
    }
   ],
   "source": [
    "a = None\n",
    "a = 'N/A' if a is None else a\n",
    "print(a)"
   ]
  },
  {
   "cell_type": "code",
   "execution_count": 7,
   "id": "f92f4f91-2802-4aa1-913f-98a8734bc7b7",
   "metadata": {},
   "outputs": [
    {
     "name": "stdout",
     "output_type": "stream",
     "text": [
      "Python\n"
     ]
    }
   ],
   "source": [
    "a = 'Python'\n",
    "a = 'N/A' if a is None else 'Python'\n",
    "print(a)"
   ]
  },
  {
   "cell_type": "code",
   "execution_count": null,
   "id": "62119799-cf76-4d8b-958c-437608d599e3",
   "metadata": {},
   "outputs": [],
   "source": [
    "Given an credit score `score`, assign a string value to another variable `rating` based on the following scale:\n",
    "\n",
    "- [0, 580) --> Poor\n",
    "- [580, 670) --> Fair\n",
    "- [670, 740) --> Good\n",
    "- [740, 800) --> Very Good\n",
    "- [800, 850] --> Excellent"
   ]
  },
  {
   "cell_type": "code",
   "execution_count": 26,
   "id": "337b8277-9500-4729-9373-8a83df32d9b8",
   "metadata": {},
   "outputs": [
    {
     "name": "stdout",
     "output_type": "stream",
     "text": [
      "Fair\n"
     ]
    }
   ],
   "source": [
    "score = 670\n",
    "\n",
    "if score <= 580:\n",
    "    rating = 'Poor'\n",
    "else:\n",
    "    if score <= 670:\n",
    "        rating = 'Fair'\n",
    "    else:\n",
    "        if score <= 740:\n",
    "            rating = 'Good'\n",
    "        else:\n",
    "            if score <= 800:\n",
    "                rating = 'Very Good'\n",
    "            else:\n",
    "                if score > 800:\n",
    "                    rating = 'Excellent'\n",
    "                else:\n",
    "                    if score <= 850:\n",
    "                        rating = 'Excellent'\n",
    "\n",
    "print(rating)"
   ]
  },
  {
   "cell_type": "code",
   "execution_count": 43,
   "id": "f99148a5-5551-405d-88d7-b4f0898fb451",
   "metadata": {},
   "outputs": [
    {
     "name": "stdout",
     "output_type": "stream",
     "text": [
      "Very Good\n"
     ]
    }
   ],
   "source": [
    "#- [0, 580) --> Poor\n",
    "#- [580, 670) --> Fair\n",
    "#- [670, 740) --> Good\n",
    "#- [740, 800) --> Very Good\n",
    "#- [800, 850] --> Excellent\n",
    "\n",
    "score = 799\n",
    "\n",
    "if score < 580:\n",
    "    rating = 'Poor'\n",
    "elif score < 680:\n",
    "    rating = 'Fair'\n",
    "elif score < 740:\n",
    "    rating = 'Good'\n",
    "elif score < 800:\n",
    "    rating = 'Very Good'\n",
    "else:\n",
    "    rating = 'Excellent'\n",
    "\n",
    "print(rating)"
   ]
  },
  {
   "cell_type": "code",
   "execution_count": 57,
   "id": "20e56aae-895b-48d2-a95b-4a7549d26446",
   "metadata": {},
   "outputs": [
    {
     "name": "stdout",
     "output_type": "stream",
     "text": [
      "seconds\n"
     ]
    }
   ],
   "source": [
    "#Exercise 4\n",
    "# Given an `elapsed` time (in seconds), write code to set a variable `magnitude` based on the following conditions:\n",
    "\n",
    "#- if elapsed time is less than 1 minute, `magnitude` --> `'seconds'`\n",
    "#- if elapsed time is more than 1 minute, but less than 1 hour, `magnitude` --> `'minutes'`\n",
    "#- if elapsed time is more than 1 hour, but less than 1 day, `magnitude` --> `'hours'`\n",
    "#- if elapsed time is more than 1 day, but less than 1 week: `magnitude` --> `'days'`\n",
    "#- if elapsed time is more than 1 week, `magnitude` --> '`weeks'`\n",
    "\n",
    "seconds_in_minute = 60\n",
    "seconds_in_hour = 60 * seconds_in_minute\n",
    "seconds_in_day = 24 * seconds_in_hour\n",
    "seconds_in_week = 7 * seconds_in_day\n",
    "\n",
    "elapsed = 23 #seconds\n",
    "\n",
    "if elapsed < seconds_in_minute:\n",
    "    magnitude = 'seconds'\n",
    "elif elapsed < seconds_in_hour:\n",
    "    magnitude = 'minutes'\n",
    "elif elapsed < seconds_in_hour:\n",
    "    magnitude = 'hour'\n",
    "elif elapsed < seconds_in_week:\n",
    "    magnitude = 'days'\n",
    "else:\n",
    "    magnitude = 'weeks'\n",
    "\n",
    "print(magnitude)"
   ]
  },
  {
   "cell_type": "code",
   "execution_count": 58,
   "id": "79a68848-55b4-45a7-85a3-4968373d6a79",
   "metadata": {},
   "outputs": [
    {
     "name": "stdout",
     "output_type": "stream",
     "text": [
      "minutes\n"
     ]
    }
   ],
   "source": [
    "seconds_in_minute = 60\n",
    "seconds_in_hour = 60 * seconds_in_minute\n",
    "seconds_in_day = 24 * seconds_in_hour\n",
    "seconds_in_week = 7 * seconds_in_day\n",
    "\n",
    "elapsed = 30 * 60 #30 minutes in seconds\n",
    "\n",
    "if elapsed < seconds_in_minute:\n",
    "    magnitude = 'seconds'\n",
    "elif elapsed < seconds_in_hour:\n",
    "    magnitude = 'minutes'\n",
    "elif elapsed < seconds_in_hour:\n",
    "    magnitude = 'hour'\n",
    "elif elapsed < seconds_in_week:\n",
    "    magnitude = 'days'\n",
    "else:\n",
    "    magnitude = 'weeks'\n",
    "\n",
    "print(magnitude)"
   ]
  },
  {
   "cell_type": "code",
   "execution_count": 59,
   "id": "de2737cb-b952-40f2-9b36-15d54bd75c7d",
   "metadata": {},
   "outputs": [
    {
     "name": "stdout",
     "output_type": "stream",
     "text": [
      "days\n"
     ]
    }
   ],
   "source": [
    "elapsed = 23 * 60 * 60 #12 hours in seconds\n",
    "\n",
    "if elapsed < seconds_in_minute:\n",
    "    magnitude = 'seconds'\n",
    "elif elapsed < seconds_in_hour:\n",
    "    magnitude = 'minutes'\n",
    "elif elapsed < seconds_in_hour:\n",
    "    magnitude = 'hour'\n",
    "elif elapsed < seconds_in_week:\n",
    "    magnitude = 'days'\n",
    "else:\n",
    "    magnitude = 'weeks'\n",
    "\n",
    "print(magnitude)"
   ]
  },
  {
   "cell_type": "code",
   "execution_count": 60,
   "id": "6b9b85da-3fd2-4269-9ad7-6e1b47210f93",
   "metadata": {},
   "outputs": [
    {
     "name": "stdout",
     "output_type": "stream",
     "text": [
      "days\n"
     ]
    }
   ],
   "source": [
    "elapsed = 48 * 60 * 60 #48 hours in seconds\n",
    "\n",
    "if elapsed < seconds_in_minute:\n",
    "    magnitude = 'seconds'\n",
    "elif elapsed < seconds_in_hour:\n",
    "    magnitude = 'minutes'\n",
    "elif elapsed < seconds_in_hour:\n",
    "    magnitude = 'hour'\n",
    "elif elapsed < seconds_in_week:\n",
    "    magnitude = 'days'\n",
    "else:\n",
    "    magnitude = 'weeks'\n",
    "\n",
    "print(magnitude)"
   ]
  },
  {
   "cell_type": "code",
   "execution_count": 61,
   "id": "7460b020-9423-4560-9be8-a0fe04551f7c",
   "metadata": {},
   "outputs": [
    {
     "name": "stdout",
     "output_type": "stream",
     "text": [
      "weeks\n"
     ]
    }
   ],
   "source": [
    "elapsed = 3 * 7 * 24 * 60 * 60  # 3 weeks in seconds\n",
    "\n",
    "if elapsed < seconds_in_minute:\n",
    "    magnitude = 'seconds'\n",
    "elif elapsed < seconds_in_hour:\n",
    "    magnitude = 'minutes'\n",
    "elif elapsed < seconds_in_day:\n",
    "    magnitude = 'hours'\n",
    "elif elapsed < seconds_in_week:\n",
    "    magnitude = 'days'\n",
    "else:\n",
    "    magnitude = 'weeks'\n",
    "    \n",
    "print(magnitude)"
   ]
  },
  {
   "cell_type": "code",
   "execution_count": null,
   "id": "fd2c8d3e-ff0b-4d9c-9831-99ac8e0b39c7",
   "metadata": {},
   "outputs": [],
   "source": []
  }
 ],
 "metadata": {
  "kernelspec": {
   "display_name": "Python 3 (ipykernel)",
   "language": "python",
   "name": "python3"
  },
  "language_info": {
   "codemirror_mode": {
    "name": "ipython",
    "version": 3
   },
   "file_extension": ".py",
   "mimetype": "text/x-python",
   "name": "python",
   "nbconvert_exporter": "python",
   "pygments_lexer": "ipython3",
   "version": "3.9.0"
  }
 },
 "nbformat": 4,
 "nbformat_minor": 5
}
