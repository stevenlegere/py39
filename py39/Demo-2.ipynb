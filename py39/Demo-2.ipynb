{
 "cells": [
  {
   "cell_type": "code",
   "execution_count": 3,
   "id": "a4ec1a3f-9bb2-4d88-94b6-32aebbd65816",
   "metadata": {},
   "outputs": [
    {
     "name": "stdout",
     "output_type": "stream",
     "text": [
      "Demo-2\n",
      "2\n",
      "4\n",
      "6\n",
      "8\n",
      "Done!\n"
     ]
    }
   ],
   "source": [
    "print('Demo-2')\n",
    "\n",
    "for i in range(2, 10, 2):\n",
    "    print(i)\n",
    "\n",
    "print('Done!')"
   ]
  },
  {
   "cell_type": "code",
   "execution_count": 2,
   "id": "9dc625a4-7f95-40be-8f49-c0ca28446e9e",
   "metadata": {},
   "outputs": [
    {
     "name": "stdout",
     "output_type": "stream",
     "text": [
      "Hello, World!\n",
      "110\n"
     ]
    }
   ],
   "source": [
    "print('Hello, World!')\n",
    "print(10 + 100)"
   ]
  },
  {
   "cell_type": "code",
   "execution_count": 5,
   "id": "849c72f7-bb80-4707-b4a3-b0c1e3a64458",
   "metadata": {},
   "outputs": [
    {
     "data": {
      "text/plain": [
       "datetime.datetime(2024, 5, 19, 20, 48, 39, 250188)"
      ]
     },
     "execution_count": 5,
     "metadata": {},
     "output_type": "execute_result"
    }
   ],
   "source": [
    "from datetime import datetime\n",
    "\n",
    "current = datetime.utcnow()\n",
    "current"
   ]
  },
  {
   "cell_type": "code",
   "execution_count": null,
   "id": "85ee86ea-891b-40ec-8c94-69fb54a12c45",
   "metadata": {},
   "outputs": [],
   "source": []
  }
 ],
 "metadata": {
  "kernelspec": {
   "display_name": "Python 3 (ipykernel)",
   "language": "python",
   "name": "python3"
  },
  "language_info": {
   "codemirror_mode": {
    "name": "ipython",
    "version": 3
   },
   "file_extension": ".py",
   "mimetype": "text/x-python",
   "name": "python",
   "nbconvert_exporter": "python",
   "pygments_lexer": "ipython3",
   "version": "3.9.0"
  }
 },
 "nbformat": 4,
 "nbformat_minor": 5
}
