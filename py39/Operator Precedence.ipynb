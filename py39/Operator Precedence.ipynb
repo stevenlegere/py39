{
 "cells": [
  {
   "cell_type": "code",
   "execution_count": 1,
   "id": "8e847e04-d74c-4b95-97dc-e9500fc4badb",
   "metadata": {},
   "outputs": [
    {
     "data": {
      "text/plain": [
       "130"
      ]
     },
     "execution_count": 1,
     "metadata": {},
     "output_type": "execute_result"
    }
   ],
   "source": [
    "100 - 20 + 50"
   ]
  },
  {
   "cell_type": "code",
   "execution_count": 2,
   "id": "7e4af679-83c4-4ba2-b1b4-344a34e1f9eb",
   "metadata": {},
   "outputs": [
    {
     "data": {
      "text/plain": [
       "130"
      ]
     },
     "execution_count": 2,
     "metadata": {},
     "output_type": "execute_result"
    }
   ],
   "source": [
    "(100 - 20) + 50"
   ]
  },
  {
   "cell_type": "code",
   "execution_count": 3,
   "id": "e8ce8d19-3935-4173-b327-0627dcaedf6c",
   "metadata": {},
   "outputs": [
    {
     "data": {
      "text/plain": [
       "130"
      ]
     },
     "execution_count": 3,
     "metadata": {},
     "output_type": "execute_result"
    }
   ],
   "source": [
    "(100 + 50) - 20"
   ]
  },
  {
   "cell_type": "code",
   "execution_count": 4,
   "id": "39dd972c-74e4-4afa-a7e8-03a8082bd3a7",
   "metadata": {},
   "outputs": [
    {
     "data": {
      "text/plain": [
       "50"
      ]
     },
     "execution_count": 4,
     "metadata": {},
     "output_type": "execute_result"
    }
   ],
   "source": [
    "(10* 4) + (5 + 5)"
   ]
  },
  {
   "cell_type": "code",
   "execution_count": 5,
   "id": "b99404fc-df80-4fe6-a51c-8ad7633f2774",
   "metadata": {},
   "outputs": [
    {
     "data": {
      "text/plain": [
       "65"
      ]
     },
     "execution_count": 5,
     "metadata": {},
     "output_type": "execute_result"
    }
   ],
   "source": [
    "10 * 4 + 5 * 5"
   ]
  },
  {
   "cell_type": "code",
   "execution_count": 6,
   "id": "554d2a1f-1775-4b58-b2b0-aa874fc44248",
   "metadata": {},
   "outputs": [
    {
     "data": {
      "text/plain": [
       "80"
      ]
     },
     "execution_count": 6,
     "metadata": {},
     "output_type": "execute_result"
    }
   ],
   "source": [
    "10 * 2 ** 3"
   ]
  },
  {
   "cell_type": "code",
   "execution_count": null,
   "id": "1091a579-7a63-40bc-a9de-e35d0bb1ad18",
   "metadata": {},
   "outputs": [],
   "source": []
  },
  {
   "cell_type": "code",
   "execution_count": null,
   "id": "1b8ef7ec-d3dc-4999-9dc0-84cc274f7150",
   "metadata": {},
   "outputs": [],
   "source": []
  }
 ],
 "metadata": {
  "kernelspec": {
   "display_name": "Python 3 (ipykernel)",
   "language": "python",
   "name": "python3"
  },
  "language_info": {
   "codemirror_mode": {
    "name": "ipython",
    "version": 3
   },
   "file_extension": ".py",
   "mimetype": "text/x-python",
   "name": "python",
   "nbconvert_exporter": "python",
   "pygments_lexer": "ipython3",
   "version": "3.9.0"
  }
 },
 "nbformat": 4,
 "nbformat_minor": 5
}
