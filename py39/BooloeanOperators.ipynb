{
 "cells": [
  {
   "cell_type": "code",
   "execution_count": 1,
   "id": "01a56a77-b432-4615-908b-25e9bb9d0a69",
   "metadata": {},
   "outputs": [
    {
     "data": {
      "text/plain": [
       "False"
      ]
     },
     "execution_count": 1,
     "metadata": {},
     "output_type": "execute_result"
    }
   ],
   "source": [
    "not True"
   ]
  },
  {
   "cell_type": "code",
   "execution_count": 2,
   "id": "55f606d4-4322-408c-93ba-cfeae89c7887",
   "metadata": {},
   "outputs": [
    {
     "data": {
      "text/plain": [
       "True"
      ]
     },
     "execution_count": 2,
     "metadata": {},
     "output_type": "execute_result"
    }
   ],
   "source": [
    "not False"
   ]
  },
  {
   "cell_type": "code",
   "execution_count": 3,
   "id": "b8759d5d-3715-4543-912e-b21fbf733fa5",
   "metadata": {},
   "outputs": [
    {
     "name": "stdout",
     "output_type": "stream",
     "text": [
      "True\n",
      "False\n",
      "False\n",
      "False\n"
     ]
    }
   ],
   "source": [
    "print(True and True)\n",
    "print(True and False)\n",
    "print(False and True)\n",
    "print(False and False)"
   ]
  },
  {
   "cell_type": "code",
   "execution_count": 4,
   "id": "fb14b131-f412-40c3-8888-cd019b8e7233",
   "metadata": {},
   "outputs": [
    {
     "name": "stdout",
     "output_type": "stream",
     "text": [
      "True\n",
      "True\n",
      "True\n",
      "False\n"
     ]
    }
   ],
   "source": [
    "print(True or True)\n",
    "print(True or False)\n",
    "print(False or True)\n",
    "print(False or False)"
   ]
  },
  {
   "cell_type": "code",
   "execution_count": 6,
   "id": "e973d644-741a-4f2c-b6f0-b509bd431405",
   "metadata": {},
   "outputs": [],
   "source": [
    "balance = 1000.000\n",
    "withdrawl = 50.00\n",
    "withdrawl_limit = 500.00"
   ]
  },
  {
   "cell_type": "code",
   "execution_count": 8,
   "id": "4dec6c0d-ebfc-4c55-8085-8e9a57ce70d7",
   "metadata": {},
   "outputs": [
    {
     "data": {
      "text/plain": [
       "True"
      ]
     },
     "execution_count": 8,
     "metadata": {},
     "output_type": "execute_result"
    }
   ],
   "source": [
    "(withdrawl < withdrawl_limit) and (withdrawl <= balance)"
   ]
  },
  {
   "cell_type": "code",
   "execution_count": 9,
   "id": "d767b14b-7bb6-47d8-8ae0-085944743aa5",
   "metadata": {},
   "outputs": [],
   "source": [
    "balance = 1000.000\n",
    "withdrawl = 600.00\n",
    "withdrawl_limit = 500.00"
   ]
  },
  {
   "cell_type": "code",
   "execution_count": 10,
   "id": "fe216a47-682e-40a4-99e9-45a5c1402e6c",
   "metadata": {},
   "outputs": [
    {
     "data": {
      "text/plain": [
       "False"
      ]
     },
     "execution_count": 10,
     "metadata": {},
     "output_type": "execute_result"
    }
   ],
   "source": [
    "(withdrawl < withdrawl_limit) and (withdrawl <= balance)"
   ]
  },
  {
   "cell_type": "code",
   "execution_count": 11,
   "id": "95a5e96e-0d5e-4de3-911a-74411f2770f2",
   "metadata": {},
   "outputs": [],
   "source": [
    "balance = 1000.000\n",
    "withdrawl = 1200.00\n",
    "withdrawl_limit = 1500.00"
   ]
  },
  {
   "cell_type": "code",
   "execution_count": 12,
   "id": "408b2862-e6ba-4d74-a704-a24e1a54b79a",
   "metadata": {},
   "outputs": [
    {
     "data": {
      "text/plain": [
       "False"
      ]
     },
     "execution_count": 12,
     "metadata": {},
     "output_type": "execute_result"
    }
   ],
   "source": [
    "(withdrawl < withdrawl_limit) and (withdrawl <= balance)"
   ]
  },
  {
   "cell_type": "code",
   "execution_count": 13,
   "id": "0b9d57a0-73fc-471f-b54b-74718d7ff614",
   "metadata": {},
   "outputs": [],
   "source": [
    "a = 20\n",
    "b = 10"
   ]
  },
  {
   "cell_type": "code",
   "execution_count": 14,
   "id": "e0855c25-7013-4b2c-ae9f-722c0c72c4c3",
   "metadata": {},
   "outputs": [
    {
     "data": {
      "text/plain": [
       "True"
      ]
     },
     "execution_count": 14,
     "metadata": {},
     "output_type": "execute_result"
    }
   ],
   "source": [
    "a / b > 1"
   ]
  },
  {
   "cell_type": "code",
   "execution_count": null,
   "id": "c30b5ac8-93f7-46eb-bfb2-281cf53be53b",
   "metadata": {},
   "outputs": [],
   "source": []
  }
 ],
 "metadata": {
  "kernelspec": {
   "display_name": "Python 3 (ipykernel)",
   "language": "python",
   "name": "python3"
  },
  "language_info": {
   "codemirror_mode": {
    "name": "ipython",
    "version": 3
   },
   "file_extension": ".py",
   "mimetype": "text/x-python",
   "name": "python",
   "nbconvert_exporter": "python",
   "pygments_lexer": "ipython3",
   "version": "3.9.0"
  }
 },
 "nbformat": 4,
 "nbformat_minor": 5
}
