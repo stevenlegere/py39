{
 "cells": [
  {
   "cell_type": "code",
   "execution_count": 2,
   "id": "bb3cdc01-1257-49c0-bf79-f39753f9dc9b",
   "metadata": {},
   "outputs": [
    {
     "name": "stdout",
     "output_type": "stream",
     "text": [
      "1 is less that 2\n"
     ]
    }
   ],
   "source": [
    "if 1 < 2:\n",
    "    print('1 is less that 2')"
   ]
  },
  {
   "cell_type": "code",
   "execution_count": null,
   "id": "615e3568-59af-42be-a361-f780e91b8b90",
   "metadata": {},
   "outputs": [],
   "source": [
    "if 1 < 2:\n",
    "    print('1 is less that 2')\n",
    "else:\n",
    "    print('1 is not less than 2'"
   ]
  }
 ],
 "metadata": {
  "kernelspec": {
   "display_name": "Python 3 (ipykernel)",
   "language": "python",
   "name": "python3"
  },
  "language_info": {
   "codemirror_mode": {
    "name": "ipython",
    "version": 3
   },
   "file_extension": ".py",
   "mimetype": "text/x-python",
   "name": "python",
   "nbconvert_exporter": "python",
   "pygments_lexer": "ipython3",
   "version": "3.9.0"
  }
 },
 "nbformat": 4,
 "nbformat_minor": 5
}
