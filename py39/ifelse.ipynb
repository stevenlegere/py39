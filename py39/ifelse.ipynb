{
 "cells": [
  {
   "cell_type": "code",
   "execution_count": 2,
   "id": "bb3cdc01-1257-49c0-bf79-f39753f9dc9b",
   "metadata": {},
   "outputs": [
    {
     "name": "stdout",
     "output_type": "stream",
     "text": [
      "1 is less that 2\n"
     ]
    }
   ],
   "source": [
    "if 1 < 2:\n",
    "    print('1 is less that 2')"
   ]
  },
  {
   "cell_type": "code",
   "execution_count": 4,
   "id": "615e3568-59af-42be-a361-f780e91b8b90",
   "metadata": {},
   "outputs": [
    {
     "name": "stdout",
     "output_type": "stream",
     "text": [
      "1 is not less than 2\n"
     ]
    }
   ],
   "source": [
    "if 1 > 2:\n",
    "    print('1 is less that 2')\n",
    "else:\n",
    "    print('1 is not less than 2')"
   ]
  },
  {
   "cell_type": "code",
   "execution_count": 5,
   "id": "844799e2-fe3d-42dd-8d35-7a3d0f80642a",
   "metadata": {},
   "outputs": [
    {
     "name": "stdout",
     "output_type": "stream",
     "text": [
      "authorised\n"
     ]
    }
   ],
   "source": [
    "account_enabled = True\n",
    "balance = 1000\n",
    "withdraw = 100\n",
    "\n",
    "if account_enabled and withdraw <= balance:\n",
    "    print('authorised')\n",
    "else:\n",
    "    print('not authorised')"
   ]
  },
  {
   "cell_type": "code",
   "execution_count": 10,
   "id": "696001a3-c284-4d61-b498-cc078c42245f",
   "metadata": {},
   "outputs": [
    {
     "name": "stdout",
     "output_type": "stream",
     "text": [
      "insufficient funds\n"
     ]
    }
   ],
   "source": [
    "account_enabled = True\n",
    "balance = 1000\n",
    "withdraw = 100_000\n",
    "\n",
    "if account_enabled and withdraw <= balance:\n",
    "    print('authorised')\n",
    "else:\n",
    "    if not account_enabled:\n",
    "        print('account disabled')\n",
    "    else:\n",
    "        print('insufficient funds')"
   ]
  },
  {
   "cell_type": "code",
   "execution_count": null,
   "id": "4ae2f674-bd75-48b8-a225-ceff727099f9",
   "metadata": {},
   "outputs": [],
   "source": [
    ">= 90       --> A\n",
    ">= 80, < 90 --> B\n",
    ">= 70, < 80 --> C\n",
    ">= 60, < 70 --> D\n",
    "< 60        --> F"
   ]
  },
  {
   "cell_type": "code",
   "execution_count": 13,
   "id": "545b18e5-fdc1-44cb-84e8-062c2bd9b5af",
   "metadata": {},
   "outputs": [
    {
     "name": "stdout",
     "output_type": "stream",
     "text": [
      "C\n"
     ]
    }
   ],
   "source": [
    "grade = 72\n",
    "\n",
    "if grade >= 90:\n",
    "    letter_grade = 'A'\n",
    "else:\n",
    "    if grade >= 80:\n",
    "        letter_grade = 'B'\n",
    "    else:\n",
    "        if grade >= 70:\n",
    "            letter_grade = 'C'\n",
    "        else:\n",
    "            if grade >= 60:\n",
    "                letter_grade = 'D'\n",
    "            else:\n",
    "                letter_grade = 'F'\n",
    "print(letter_grade)"
   ]
  },
  {
   "cell_type": "code",
   "execution_count": 14,
   "id": "571f3666-3796-4a54-b6dc-c1f5bc13ad53",
   "metadata": {},
   "outputs": [
    {
     "name": "stdout",
     "output_type": "stream",
     "text": [
      "C\n"
     ]
    }
   ],
   "source": [
    "grade = 72\n",
    "\n",
    "if grade >= 90:\n",
    "    letter_grade = 'A'\n",
    "\n",
    "if grade >= 80 and grade < 90:\n",
    "    letter_grade = 'B'\n",
    "\n",
    "if grade >= 70 and grade < 80:\n",
    "    letter_grade = 'C'\n",
    "\n",
    "if grade >= 60 and grade < 70:\n",
    "    letter_grade = 'D'\n",
    "\n",
    "if grade < 60:\n",
    "    letter_grade = 'F'\n",
    "\n",
    "print(letter_grade)"
   ]
  },
  {
   "cell_type": "code",
   "execution_count": 15,
   "id": "5416f7d7-2a72-4526-9efd-dea7b23f9eda",
   "metadata": {},
   "outputs": [
    {
     "name": "stdout",
     "output_type": "stream",
     "text": [
      "C\n"
     ]
    }
   ],
   "source": [
    "grade  = 72\n",
    "\n",
    "letter_grade = 'F'\n",
    "\n",
    "if grade >= 60:\n",
    "    letter_grade = 'D'\n",
    "\n",
    "if grade >= 70:\n",
    "    letter_grade = 'C'\n",
    "\n",
    "if grade >= 80:\n",
    "    letter_grade = 'B'\n",
    "\n",
    "if grade >= 90:\n",
    "    letter_grade = 'A'\n",
    "\n",
    "print(letter_grade)\n"
   ]
  },
  {
   "cell_type": "code",
   "execution_count": 16,
   "id": "8b8f17cc-0584-4eee-a6b8-54c397e0de7c",
   "metadata": {},
   "outputs": [
    {
     "name": "stdout",
     "output_type": "stream",
     "text": [
      "C\n"
     ]
    }
   ],
   "source": [
    "grade = 72\n",
    "\n",
    "if grade >= 90:\n",
    "    grade_letter = 'A'\n",
    "\n",
    "elif grade >= 80:\n",
    "    grade_letter = 'B'\n",
    "\n",
    "elif grade >= 70:\n",
    "    grade_letter = 'C'\n",
    "\n",
    "elif grade >= 60:\n",
    "    grade_letter = 'D'\n",
    "\n",
    "else:\n",
    "    grade_letter = 'F'\n",
    "\n",
    "print(grade_letter)"
   ]
  },
  {
   "cell_type": "code",
   "execution_count": null,
   "id": "110eca04-6a4c-49e2-aa7c-55cfd9b441c8",
   "metadata": {},
   "outputs": [],
   "source": []
  }
 ],
 "metadata": {
  "kernelspec": {
   "display_name": "Python 3 (ipykernel)",
   "language": "python",
   "name": "python3"
  },
  "language_info": {
   "codemirror_mode": {
    "name": "ipython",
    "version": 3
   },
   "file_extension": ".py",
   "mimetype": "text/x-python",
   "name": "python",
   "nbconvert_exporter": "python",
   "pygments_lexer": "ipython3",
   "version": "3.9.0"
  }
 },
 "nbformat": 4,
 "nbformat_minor": 5
}
